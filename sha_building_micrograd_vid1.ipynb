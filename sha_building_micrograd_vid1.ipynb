{
 "cells": [
  {
   "cell_type": "markdown",
   "metadata": {},
   "source": [
    "## Karpathy micrograd Zero to Hero video series\n",
    "### Video 1"
   ]
  },
  {
   "cell_type": "code",
   "execution_count": 1,
   "metadata": {},
   "outputs": [],
   "source": [
    "import math\n",
    "import numpy as np\n",
    "import matplotlib.pyplot as plt\n",
    "%matplotlib inline"
   ]
  },
  {
   "cell_type": "code",
   "execution_count": 2,
   "metadata": {},
   "outputs": [],
   "source": [
    "def f(x):\n",
    "    return 3*x**2 - 4*x + 5"
   ]
  },
  {
   "cell_type": "code",
   "execution_count": 3,
   "metadata": {},
   "outputs": [
    {
     "data": {
      "text/plain": [
       "20.0"
      ]
     },
     "execution_count": 3,
     "metadata": {},
     "output_type": "execute_result"
    }
   ],
   "source": [
    "f(3.0)"
   ]
  },
  {
   "cell_type": "code",
   "execution_count": 4,
   "metadata": {},
   "outputs": [
    {
     "data": {
      "text/plain": [
       "array([-5.  , -4.75, -4.5 , -4.25, -4.  , -3.75, -3.5 , -3.25, -3.  ,\n",
       "       -2.75, -2.5 , -2.25, -2.  , -1.75, -1.5 , -1.25, -1.  , -0.75,\n",
       "       -0.5 , -0.25,  0.  ,  0.25,  0.5 ,  0.75,  1.  ,  1.25,  1.5 ,\n",
       "        1.75,  2.  ,  2.25,  2.5 ,  2.75,  3.  ,  3.25,  3.5 ,  3.75,\n",
       "        4.  ,  4.25,  4.5 ,  4.75])"
      ]
     },
     "execution_count": 4,
     "metadata": {},
     "output_type": "execute_result"
    }
   ],
   "source": [
    "xs = np.arange(-5, 5, 0.25)\n",
    "xs"
   ]
  },
  {
   "cell_type": "code",
   "execution_count": 5,
   "metadata": {},
   "outputs": [
    {
     "data": {
      "text/plain": [
       "array([100.    ,  91.6875,  83.75  ,  76.1875,  69.    ,  62.1875,\n",
       "        55.75  ,  49.6875,  44.    ,  38.6875,  33.75  ,  29.1875,\n",
       "        25.    ,  21.1875,  17.75  ,  14.6875,  12.    ,   9.6875,\n",
       "         7.75  ,   6.1875,   5.    ,   4.1875,   3.75  ,   3.6875,\n",
       "         4.    ,   4.6875,   5.75  ,   7.1875,   9.    ,  11.1875,\n",
       "        13.75  ,  16.6875,  20.    ,  23.6875,  27.75  ,  32.1875,\n",
       "        37.    ,  42.1875,  47.75  ,  53.6875])"
      ]
     },
     "execution_count": 5,
     "metadata": {},
     "output_type": "execute_result"
    }
   ],
   "source": [
    "ys = f(xs)\n",
    "ys"
   ]
  },
  {
   "cell_type": "code",
   "execution_count": 6,
   "metadata": {},
   "outputs": [
    {
     "data": {
      "text/plain": [
       "[<matplotlib.lines.Line2D at 0x7ff4326165c0>]"
      ]
     },
     "execution_count": 6,
     "metadata": {},
     "output_type": "execute_result"
    },
    {
     "data": {
      "image/png": "[encoded data removed]",
      "text/plain": [
       "<Figure size 640x480 with 1 Axes>"
      ]
     },
     "metadata": {},
     "output_type": "display_data"
    }
   ],
   "source": [
    "plt.plot(xs, ys)"
   ]
  },
  {
   "cell_type": "code",
   "execution_count": 7,
   "metadata": {},
   "outputs": [
    {
     "data": {
      "text/plain": [
       "14.000003002223593"
      ]
     },
     "execution_count": 7,
     "metadata": {},
     "output_type": "execute_result"
    }
   ],
   "source": [
    "# derivative\n",
    "h = 0.000001\n",
    "x = 3.0\n",
    "(f(x + h) - f(x))/h"
   ]
  },
  {
   "cell_type": "code",
   "execution_count": 8,
   "metadata": {},
   "outputs": [
    {
     "data": {
      "text/plain": [
       "-21.999997002808414"
      ]
     },
     "execution_count": 8,
     "metadata": {},
     "output_type": "execute_result"
    }
   ],
   "source": [
    "h = 0.000001\n",
    "x = -3.0\n",
    "(f(x + h) - f(x))/h"
   ]
  },
  {
   "cell_type": "code",
   "execution_count": 9,
   "metadata": {},
   "outputs": [
    {
     "data": {
      "text/plain": [
       "2.999378523327323e-06"
      ]
     },
     "execution_count": 9,
     "metadata": {},
     "output_type": "execute_result"
    }
   ],
   "source": [
    "h = 0.000001\n",
    "x = 2/3\n",
    "(f(x + h) - f(x))/h"
   ]
  },
  {
   "cell_type": "code",
   "execution_count": 10,
   "metadata": {},
   "outputs": [
    {
     "name": "stdout",
     "output_type": "stream",
     "text": [
      "d1 4.0\n",
      "d2 3.999699999999999\n",
      "slope -3.000000000010772\n"
     ]
    }
   ],
   "source": [
    "# get more complex functions\n",
    "h = 0.0001\n",
    "\n",
    "# inputs\n",
    "a = 2.0\n",
    "b = -3.0\n",
    "c = 10.0\n",
    "\n",
    "d1 = a*b + c\n",
    "a += h\n",
    "d2 = a*b + c\n",
    "\n",
    "print('d1', d1)\n",
    "print('d2', d2)\n",
    "print('slope', (d2 - d1)/h)\n"
   ]
  },
  {
   "cell_type": "code",
   "execution_count": 11,
   "metadata": {},
   "outputs": [
    {
     "name": "stdout",
     "output_type": "stream",
     "text": [
      "d1 4.0\n",
      "d2 4.0002\n",
      "slope 2.0000000000042206\n"
     ]
    }
   ],
   "source": [
    "# get more complex functions\n",
    "h = 0.0001\n",
    "\n",
    "# inputs\n",
    "a = 2.0\n",
    "b = -3.0\n",
    "c = 10.0\n",
    "\n",
    "d1 = a*b + c\n",
    "b += h\n",
    "d2 = a*b + c\n",
    "\n",
    "print('d1', d1)\n",
    "print('d2', d2)\n",
    "print('slope', (d2 - d1)/h)"
   ]
  },
  {
   "cell_type": "code",
   "execution_count": 12,
   "metadata": {},
   "outputs": [
    {
     "name": "stdout",
     "output_type": "stream",
     "text": [
      "d1 4.0\n",
      "d2 4.0001\n",
      "slope 0.9999999999976694\n"
     ]
    }
   ],
   "source": [
    "# get more complex functions\n",
    "h = 0.0001\n",
    "\n",
    "# inputs\n",
    "a = 2.0\n",
    "b = -3.0\n",
    "c = 10.0\n",
    "\n",
    "d1 = a*b + c\n",
    "c += h\n",
    "d2 = a*b + c\n",
    "\n",
    "print('d1', d1)\n",
    "print('d2', d2)\n",
    "print('slope', (d2 - d1)/h)"
   ]
  },
  {
   "cell_type": "markdown",
   "metadata": {},
   "source": [
    "### Graphviz to draw the NN"
   ]
  },
  {
   "cell_type": "code",
   "execution_count": 13,
   "metadata": {},
   "outputs": [],
   "source": [
    "from graphviz import Digraph"
   ]
  },
  {
   "cell_type": "code",
   "execution_count": 14,
   "metadata": {},
   "outputs": [],
   "source": [
    "def trace(root):\n",
    "    nodes, edges = set(), set()\n",
    "    def build(v):\n",
    "        if v not in nodes:\n",
    "            nodes.add(v)\n",
    "            for child in v._prev:\n",
    "                edges.add((child, v))\n",
    "                build(child)\n",
    "    build(root)\n",
    "    return nodes, edges\n",
    "\n",
    "def draw_dot(root, format='svg', rankdir='LR'):\n",
    "    \"\"\"\n",
    "    format: png | svg | ...\n",
    "    rankdir: TB (top to bottom graph) | LR (left to right)\n",
    "    \"\"\"\n",
    "    assert rankdir in ['LR', 'TB']\n",
    "    nodes, edges = trace(root)\n",
    "    dot = Digraph(format=format, graph_attr={'rankdir': rankdir}) #, node_attr={'rankdir': 'TB'})\n",
    "    \n",
    "    for n in nodes:\n",
    "        # dot.node(name=str(id(n)), label = \"{ data %.4f | grad %.4f }\" % (n.data, n.grad), shape='record')\n",
    "        dot.node(name=str(id(n)), label = \"{ %s | data %.4f | grad %.4f }\" % (n.label, n.data, n.grad), shape='record')\n",
    "        if n._op:\n",
    "            dot.node(name=str(id(n)) + n._op, label=n._op)\n",
    "            dot.edge(str(id(n)) + n._op, str(id(n)))\n",
    "    \n",
    "    for n1, n2 in edges:\n",
    "        dot.edge(str(id(n1)), str(id(n2)) + n2._op)\n",
    "    \n",
    "    return dot"
   ]
  },
  {
   "cell_type": "markdown",
   "metadata": {},
   "source": [
    "### Let's go to Neural Networks\n",
    "Massive functions"
   ]
  },
  {
   "cell_type": "code",
   "execution_count": 180,
   "metadata": {},
   "outputs": [],
   "source": [
    "class Value:\n",
    "\n",
    "    def __init__(self, data, _children=(), _op='', label=''):\n",
    "        self.data = data\n",
    "        self.grad = 0.0\n",
    "        self._backward = lambda: None\n",
    "        self._prev = set(_children)\n",
    "        self._op = _op\n",
    "        self.label = label\n",
    "\n",
    "    # print better\n",
    "    def __repr__(self):\n",
    "        # return f\"<Value(data={self.data}), {self._prev}, {self._op}>\"\n",
    "        return f\"Value(data={self.data}, grad={self.grad})\"\n",
    "    \n",
    "    def __add__(self, other):\n",
    "        # if other is a number like 2.4 create Value(other)\n",
    "        other = other if isinstance(other, Value) else Value(other)\n",
    "        out = Value(self.data + other.data, (self, other), '+')\n",
    "        \n",
    "        # closure : retains outer scope, remembers self and other\n",
    "        # local grad * global grad\n",
    "        def _backward():\n",
    "            self.grad += 1.0 * out.grad\n",
    "            other.grad += 1.0 * out.grad\n",
    "        out._backward = _backward # store the function to be called later not call the function now\n",
    "\n",
    "        return out\n",
    "    \n",
    "    def __mul__(self, other):\n",
    "        other = other if isinstance(other, Value) else Value(other)\n",
    "        out = Value(self.data * other.data, (self, other), '*')\n",
    "\n",
    "        # closure\n",
    "        def _backward():\n",
    "            self.grad += other.data * out.grad\n",
    "            other.grad += self.data * out.grad\n",
    "        out._backward = _backward\n",
    "\n",
    "        return out\n",
    "    \n",
    "    def __pow__(self, other):\n",
    "        assert isinstance(other, (int, float)), \"only supporting int/float\"\n",
    "        out = Value(self.data**other, (self,), f'**{other}')\n",
    "\n",
    "        def _backward():\n",
    "            self.grad += other * self.data ** (other - 1) * out.grad\n",
    "        out._backward = _backward\n",
    "\n",
    "        return out\n",
    "    \n",
    "    # python will check x * 2 if 2 * x fails\n",
    "    def __rmul__(self, other): # other * self\n",
    "        return self * other\n",
    "    \n",
    "    def __radd__(self, other): # other + self \n",
    "        return self + other # ex: 2 + Value(3.2)\n",
    "    \n",
    "    def __rsub__(self, other):\n",
    "        return other + (-self)\n",
    "    \n",
    "    def __neg__(self):\n",
    "        return self * -1\n",
    "    \n",
    "    def __sub__(self, other):\n",
    "        return self + (-other)\n",
    "    \n",
    "    def __truediv__(self, other): # self / other\n",
    "        return self * other**-1\n",
    "    \n",
    "    def tanh(self):\n",
    "        x = self.data\n",
    "        t = (math.exp(2*x) - 1)/(math.exp(2*x) + 1)\n",
    "        out = Value(t, (self, ), 'tanh')\n",
    "\n",
    "        def _backward():\n",
    "            self.grad += (1 - t**2) * out.grad\n",
    "        out._backward = _backward\n",
    "        \n",
    "        return out\n",
    "\n",
    "    def exp(self):\n",
    "        x = self.data\n",
    "        out = Value(math.exp(x), (self, ), 'exp')\n",
    "\n",
    "        def _backward():\n",
    "            # d(e^x)/dx = e^x\n",
    "            self.grad += out.data * out.grad # out.data holds math.exp(x) that we need\n",
    "        out._backward = _backward\n",
    "        return out\n",
    "    \n",
    "    def backward(self):\n",
    "        # topological sort\n",
    "        topo = []\n",
    "        visited = set()\n",
    "        def build_topo(v):\n",
    "            if v not in visited:\n",
    "                visited.add(v)\n",
    "                for child in v._prev:\n",
    "                    build_topo(child)\n",
    "                topo.append(v)\n",
    "        build_topo(self)\n",
    "        \n",
    "        self.grad = 1\n",
    "        for node in reversed(topo):\n",
    "            node._backward()\n"
   ]
  },
  {
   "cell_type": "code",
   "execution_count": 172,
   "metadata": {},
   "outputs": [
    {
     "data": {
      "text/plain": [
       "Value(data=3.0, grad=0.0)"
      ]
     },
     "execution_count": 172,
     "metadata": {},
     "output_type": "execute_result"
    }
   ],
   "source": [
    "a = Value(2.0)\n",
    "1 + a"
   ]
  },
  {
   "cell_type": "code",
   "execution_count": 182,
   "metadata": {},
   "outputs": [
    {
     "data": {
      "text/plain": [
       "Value(data=-1.2, grad=0.0)"
      ]
     },
     "execution_count": 182,
     "metadata": {},
     "output_type": "execute_result"
    }
   ],
   "source": [
    "a = Value(2.4)\n",
    "1.2 - a"
   ]
  },
  {
   "cell_type": "code",
   "execution_count": 53,
   "metadata": {},
   "outputs": [
    {
     "data": {
      "text/plain": [
       "<Value(data=7.38905609893065), {<Value(data=2.0), set(), >}, exp>"
      ]
     },
     "execution_count": 53,
     "metadata": {},
     "output_type": "execute_result"
    }
   ],
   "source": [
    "a = Value(2.0)\n",
    "a.exp()"
   ]
  },
  {
   "cell_type": "code",
   "execution_count": 60,
   "metadata": {},
   "outputs": [
    {
     "data": {
      "text/plain": [
       "<Value(data=0.25), {<Value(data=4.0), set(), >}, **-1>"
      ]
     },
     "execution_count": 60,
     "metadata": {},
     "output_type": "execute_result"
    }
   ],
   "source": [
    "b = Value(4.0)\n",
    "b ** -1"
   ]
  },
  {
   "cell_type": "code",
   "execution_count": 67,
   "metadata": {},
   "outputs": [
    {
     "data": {
      "text/plain": [
       "<Value(data=2.0), {<Value(data=-2.0), {<Value(data=-1), set(), >, <Value(data=2.0), set(), >}, *>, <Value(data=4.0), set(), >}, +>"
      ]
     },
     "execution_count": 67,
     "metadata": {},
     "output_type": "execute_result"
    }
   ],
   "source": [
    "a = Value(2.0)\n",
    "b = Value(4.0)\n",
    "b - a"
   ]
  },
  {
   "cell_type": "code",
   "execution_count": 17,
   "metadata": {},
   "outputs": [],
   "source": [
    "# closure\n",
    "\n",
    "def outer(func):\n",
    "    abc = 10\n",
    "\n",
    "    def inner(*args):\n",
    "        print(f'{abc}, {func.__name__} {args}')\n",
    "        return func(*args) + abc\n",
    "    return inner\n",
    "\n",
    "def myadd(x, y):\n",
    "    return x+y\n",
    "myinner = outer(myadd)"
   ]
  },
  {
   "cell_type": "code",
   "execution_count": 18,
   "metadata": {},
   "outputs": [
    {
     "name": "stdout",
     "output_type": "stream",
     "text": [
      "10, myadd (2.5, 1.3)\n"
     ]
    },
    {
     "data": {
      "text/plain": [
       "13.8"
      ]
     },
     "execution_count": 18,
     "metadata": {},
     "output_type": "execute_result"
    }
   ],
   "source": [
    "myinner(2.5,1.3)"
   ]
  },
  {
   "cell_type": "code",
   "execution_count": 19,
   "metadata": {},
   "outputs": [
    {
     "data": {
      "text/plain": [
       "<Value(data=-1.0), {<Value(data=2.0), set(), >, <Value(data=-3.0), set(), >}, +>"
      ]
     },
     "execution_count": 19,
     "metadata": {},
     "output_type": "execute_result"
    }
   ],
   "source": [
    "a = Value(2.0)\n",
    "b = Value(-3.0)\n",
    "a + b # a is self, b is other"
   ]
  },
  {
   "cell_type": "code",
   "execution_count": 20,
   "metadata": {},
   "outputs": [
    {
     "data": {
      "text/plain": [
       "<Value(data=-1.0), {<Value(data=2.0), set(), >, <Value(data=-3.0), set(), >}, +>"
      ]
     },
     "execution_count": 20,
     "metadata": {},
     "output_type": "execute_result"
    }
   ],
   "source": [
    "a.__add__(b)"
   ]
  },
  {
   "cell_type": "code",
   "execution_count": 21,
   "metadata": {},
   "outputs": [
    {
     "data": {
      "text/plain": [
       "<Value(data=-6.0), {<Value(data=-3.0), set(), >, <Value(data=2.0), set(), >}, *>"
      ]
     },
     "execution_count": 21,
     "metadata": {},
     "output_type": "execute_result"
    }
   ],
   "source": [
    "a = Value(2.0)\n",
    "b = Value(-3.0)\n",
    "a * b"
   ]
  },
  {
   "cell_type": "code",
   "execution_count": 22,
   "metadata": {},
   "outputs": [
    {
     "data": {
      "text/plain": [
       "<Value(data=-6.0), {<Value(data=-3.0), set(), >, <Value(data=2.0), set(), >}, *>"
      ]
     },
     "execution_count": 22,
     "metadata": {},
     "output_type": "execute_result"
    }
   ],
   "source": [
    "a.__mul__(b)"
   ]
  },
  {
   "cell_type": "code",
   "execution_count": 23,
   "metadata": {},
   "outputs": [
    {
     "data": {
      "text/plain": [
       "<Value(data=4.0), {<Value(data=-6.0), {<Value(data=-3.0), set(), >, <Value(data=2.0), set(), >}, *>, <Value(data=10), set(), >}, +>"
      ]
     },
     "execution_count": 23,
     "metadata": {},
     "output_type": "execute_result"
    }
   ],
   "source": [
    "a = Value(2.0)\n",
    "b = Value(-3.0)\n",
    "c = Value(10)\n",
    "a*b + c"
   ]
  },
  {
   "cell_type": "code",
   "execution_count": 24,
   "metadata": {},
   "outputs": [
    {
     "data": {
      "text/plain": [
       "<Value(data=4.0), {<Value(data=-6.0), {<Value(data=-3.0), set(), >, <Value(data=2.0), set(), >}, *>, <Value(data=10), set(), >}, +>"
      ]
     },
     "execution_count": 24,
     "metadata": {},
     "output_type": "execute_result"
    }
   ],
   "source": [
    "a.__mul__(b).__add__(c)"
   ]
  },
  {
   "cell_type": "code",
   "execution_count": 25,
   "metadata": {},
   "outputs": [],
   "source": [
    "a = Value(2.0, label='a')\n",
    "b = Value(-3.0, label='b')\n",
    "c = Value(10, label='c')\n",
    "e = a*b; e.label = 'e'\n",
    "d = e + c; d.label = 'd'\n",
    "f = Value(-2.0, label='f')\n",
    "L = d * f; L.label = 'L'"
   ]
  },
  {
   "cell_type": "code",
   "execution_count": 26,
   "metadata": {},
   "outputs": [
    {
     "data": {
      "image/svg+xml": [
       "<?xml version=\"1.0\" encoding=\"UTF-8\" standalone=\"no\"?>\n",
       "<!DOCTYPE svg PUBLIC \"-//W3C//DTD SVG 1.1//EN\"\n",
       " \"http://www.w3.org/Graphics/SVG/1.1/DTD/svg11.dtd\">\n",
       "<!-- Generated by graphviz version 9.0.0 (20231125.0833)\n",
       " -->\n",
       "<!-- Pages: 1 -->\n",
       "<svg width=\"1321pt\" height=\"154pt\"\n",
       " viewBox=\"0.00 0.00 1321.25 154.00\" xmlns=\"http://www.w3.org/2000/svg\" xmlns:xlink=\"http://www.w3.org/1999/xlink\">\n",
       "<g id=\"graph0\" class=\"graph\" transform=\"scale(1 1) rotate(0) translate(4 150)\">\n",
       "<polygon fill=\"white\" stroke=\"none\" points=\"-4,4 -4,-150 1317.25,-150 1317.25,4 -4,4\"/>\n",
       "<!-- 140686658864656 -->\n",
       "<g id=\"node1\" class=\"node\">\n",
       "<title>140686658864656</title>\n",
       "<polygon fill=\"none\" stroke=\"black\" points=\"361.88,-27.5 361.88,-63.5 595.12,-63.5 595.12,-27.5 361.88,-27.5\"/>\n",
       "<text text-anchor=\"middle\" x=\"374\" y=\"-41.2\" font-family=\"Times,serif\" font-size=\"14.00\">e</text>\n",
       "<polyline fill=\"none\" stroke=\"black\" points=\"386.12,-28.25 386.12,-63.5\"/>\n",
       "<text text-anchor=\"middle\" x=\"439.12\" y=\"-41.2\" font-family=\"Times,serif\" font-size=\"14.00\">data &#45;6.0000</text>\n",
       "<polyline fill=\"none\" stroke=\"black\" points=\"492.12,-28.25 492.12,-63.5\"/>\n",
       "<text text-anchor=\"middle\" x=\"543.62\" y=\"-41.2\" font-family=\"Times,serif\" font-size=\"14.00\">grad 0.0000</text>\n",
       "</g>\n",
       "<!-- 140686658873584+ -->\n",
       "<g id=\"node9\" class=\"node\">\n",
       "<title>140686658873584+</title>\n",
       "<ellipse fill=\"none\" stroke=\"black\" cx=\"660\" cy=\"-72.5\" rx=\"27\" ry=\"18\"/>\n",
       "<text text-anchor=\"middle\" x=\"660\" y=\"-67.83\" font-family=\"Times,serif\" font-size=\"14.00\">+</text>\n",
       "</g>\n",
       "<!-- 140686658864656&#45;&gt;140686658873584+ -->\n",
       "<g id=\"edge4\" class=\"edge\">\n",
       "<title>140686658864656&#45;&gt;140686658873584+</title>\n",
       "<path fill=\"none\" stroke=\"black\" d=\"M595.46,-62.94C604.91,-64.36 613.94,-65.72 622.06,-66.94\"/>\n",
       "<polygon fill=\"black\" stroke=\"black\" points=\"621.37,-70.38 631.78,-68.41 622.41,-63.46 621.37,-70.38\"/>\n",
       "</g>\n",
       "<!-- 140686658864656* -->\n",
       "<g id=\"node2\" class=\"node\">\n",
       "<title>140686658864656*</title>\n",
       "<ellipse fill=\"none\" stroke=\"black\" cx=\"297\" cy=\"-45.5\" rx=\"27\" ry=\"18\"/>\n",
       "<text text-anchor=\"middle\" x=\"297\" y=\"-40.83\" font-family=\"Times,serif\" font-size=\"14.00\">*</text>\n",
       "</g>\n",
       "<!-- 140686658864656*&#45;&gt;140686658864656 -->\n",
       "<g id=\"edge1\" class=\"edge\">\n",
       "<title>140686658864656*&#45;&gt;140686658864656</title>\n",
       "<path fill=\"none\" stroke=\"black\" d=\"M324.49,-45.5C332.06,-45.5 340.85,-45.5 350.32,-45.5\"/>\n",
       "<polygon fill=\"black\" stroke=\"black\" points=\"350.2,-49 360.2,-45.5 350.2,-42 350.2,-49\"/>\n",
       "</g>\n",
       "<!-- 140686658873392 -->\n",
       "<g id=\"node3\" class=\"node\">\n",
       "<title>140686658873392</title>\n",
       "<polygon fill=\"none\" stroke=\"black\" points=\"723,-109.5 723,-145.5 953.25,-145.5 953.25,-109.5 723,-109.5\"/>\n",
       "<text text-anchor=\"middle\" x=\"733.62\" y=\"-123.2\" font-family=\"Times,serif\" font-size=\"14.00\">f</text>\n",
       "<polyline fill=\"none\" stroke=\"black\" points=\"744.25,-110.25 744.25,-145.5\"/>\n",
       "<text text-anchor=\"middle\" x=\"797.25\" y=\"-123.2\" font-family=\"Times,serif\" font-size=\"14.00\">data &#45;2.0000</text>\n",
       "<polyline fill=\"none\" stroke=\"black\" points=\"850.25,-110.25 850.25,-145.5\"/>\n",
       "<text text-anchor=\"middle\" x=\"901.75\" y=\"-123.2\" font-family=\"Times,serif\" font-size=\"14.00\">grad 0.0000</text>\n",
       "</g>\n",
       "<!-- 140686658876560* -->\n",
       "<g id=\"node6\" class=\"node\">\n",
       "<title>140686658876560*</title>\n",
       "<ellipse fill=\"none\" stroke=\"black\" cx=\"1016.25\" cy=\"-99.5\" rx=\"27\" ry=\"18\"/>\n",
       "<text text-anchor=\"middle\" x=\"1016.25\" y=\"-94.83\" font-family=\"Times,serif\" font-size=\"14.00\">*</text>\n",
       "</g>\n",
       "<!-- 140686658873392&#45;&gt;140686658876560* -->\n",
       "<g id=\"edge8\" class=\"edge\">\n",
       "<title>140686658873392&#45;&gt;140686658876560*</title>\n",
       "<path fill=\"none\" stroke=\"black\" d=\"M953.65,-109.29C962.36,-107.91 970.69,-106.58 978.25,-105.38\"/>\n",
       "<polygon fill=\"black\" stroke=\"black\" points=\"978.62,-108.87 987.95,-103.84 977.53,-101.95 978.62,-108.87\"/>\n",
       "</g>\n",
       "<!-- 140686658866768 -->\n",
       "<g id=\"node4\" class=\"node\">\n",
       "<title>140686658866768</title>\n",
       "<polygon fill=\"none\" stroke=\"black\" points=\"2.62,-55.5 2.62,-91.5 231.38,-91.5 231.38,-55.5 2.62,-55.5\"/>\n",
       "<text text-anchor=\"middle\" x=\"14.75\" y=\"-69.2\" font-family=\"Times,serif\" font-size=\"14.00\">a</text>\n",
       "<polyline fill=\"none\" stroke=\"black\" points=\"26.88,-56.25 26.88,-91.5\"/>\n",
       "<text text-anchor=\"middle\" x=\"77.62\" y=\"-69.2\" font-family=\"Times,serif\" font-size=\"14.00\">data 2.0000</text>\n",
       "<polyline fill=\"none\" stroke=\"black\" points=\"128.38,-56.25 128.38,-91.5\"/>\n",
       "<text text-anchor=\"middle\" x=\"179.88\" y=\"-69.2\" font-family=\"Times,serif\" font-size=\"14.00\">grad 0.0000</text>\n",
       "</g>\n",
       "<!-- 140686658866768&#45;&gt;140686658864656* -->\n",
       "<g id=\"edge6\" class=\"edge\">\n",
       "<title>140686658866768&#45;&gt;140686658864656*</title>\n",
       "<path fill=\"none\" stroke=\"black\" d=\"M231.74,-55.61C241.46,-54.08 250.76,-52.62 259.11,-51.3\"/>\n",
       "<polygon fill=\"black\" stroke=\"black\" points=\"259.41,-54.8 268.74,-49.79 258.32,-47.88 259.41,-54.8\"/>\n",
       "</g>\n",
       "<!-- 140686658876560 -->\n",
       "<g id=\"node5\" class=\"node\">\n",
       "<title>140686658876560</title>\n",
       "<polygon fill=\"none\" stroke=\"black\" points=\"1079.25,-81.5 1079.25,-117.5 1313.25,-117.5 1313.25,-81.5 1079.25,-81.5\"/>\n",
       "<text text-anchor=\"middle\" x=\"1091.75\" y=\"-95.2\" font-family=\"Times,serif\" font-size=\"14.00\">L</text>\n",
       "<polyline fill=\"none\" stroke=\"black\" points=\"1104.25,-82.25 1104.25,-117.5\"/>\n",
       "<text text-anchor=\"middle\" x=\"1157.25\" y=\"-95.2\" font-family=\"Times,serif\" font-size=\"14.00\">data &#45;8.0000</text>\n",
       "<polyline fill=\"none\" stroke=\"black\" points=\"1210.25,-82.25 1210.25,-117.5\"/>\n",
       "<text text-anchor=\"middle\" x=\"1261.75\" y=\"-95.2\" font-family=\"Times,serif\" font-size=\"14.00\">grad 0.0000</text>\n",
       "</g>\n",
       "<!-- 140686658876560*&#45;&gt;140686658876560 -->\n",
       "<g id=\"edge2\" class=\"edge\">\n",
       "<title>140686658876560*&#45;&gt;140686658876560</title>\n",
       "<path fill=\"none\" stroke=\"black\" d=\"M1043.51,-99.5C1050.59,-99.5 1058.73,-99.5 1067.5,-99.5\"/>\n",
       "<polygon fill=\"black\" stroke=\"black\" points=\"1067.4,-103 1077.4,-99.5 1067.4,-96 1067.4,-103\"/>\n",
       "</g>\n",
       "<!-- 140686658875600 -->\n",
       "<g id=\"node7\" class=\"node\">\n",
       "<title>140686658875600</title>\n",
       "<polygon fill=\"none\" stroke=\"black\" points=\"0,-0.5 0,-36.5 234,-36.5 234,-0.5 0,-0.5\"/>\n",
       "<text text-anchor=\"middle\" x=\"12.5\" y=\"-14.2\" font-family=\"Times,serif\" font-size=\"14.00\">b</text>\n",
       "<polyline fill=\"none\" stroke=\"black\" points=\"25,-1.25 25,-36.5\"/>\n",
       "<text text-anchor=\"middle\" x=\"78\" y=\"-14.2\" font-family=\"Times,serif\" font-size=\"14.00\">data &#45;3.0000</text>\n",
       "<polyline fill=\"none\" stroke=\"black\" points=\"131,-1.25 131,-36.5\"/>\n",
       "<text text-anchor=\"middle\" x=\"182.5\" y=\"-14.2\" font-family=\"Times,serif\" font-size=\"14.00\">grad 0.0000</text>\n",
       "</g>\n",
       "<!-- 140686658875600&#45;&gt;140686658864656* -->\n",
       "<g id=\"edge5\" class=\"edge\">\n",
       "<title>140686658875600&#45;&gt;140686658864656*</title>\n",
       "<path fill=\"none\" stroke=\"black\" d=\"M234.24,-36.13C242.99,-37.46 251.34,-38.73 258.93,-39.88\"/>\n",
       "<polygon fill=\"black\" stroke=\"black\" points=\"258.24,-43.31 268.66,-41.35 259.29,-36.39 258.24,-43.31\"/>\n",
       "</g>\n",
       "<!-- 140686658873584 -->\n",
       "<g id=\"node8\" class=\"node\">\n",
       "<title>140686658873584</title>\n",
       "<polygon fill=\"none\" stroke=\"black\" points=\"723.38,-54.5 723.38,-90.5 952.88,-90.5 952.88,-54.5 723.38,-54.5\"/>\n",
       "<text text-anchor=\"middle\" x=\"735.88\" y=\"-68.2\" font-family=\"Times,serif\" font-size=\"14.00\">d</text>\n",
       "<polyline fill=\"none\" stroke=\"black\" points=\"748.38,-55.25 748.38,-90.5\"/>\n",
       "<text text-anchor=\"middle\" x=\"799.12\" y=\"-68.2\" font-family=\"Times,serif\" font-size=\"14.00\">data 4.0000</text>\n",
       "<polyline fill=\"none\" stroke=\"black\" points=\"849.88,-55.25 849.88,-90.5\"/>\n",
       "<text text-anchor=\"middle\" x=\"901.38\" y=\"-68.2\" font-family=\"Times,serif\" font-size=\"14.00\">grad 0.0000</text>\n",
       "</g>\n",
       "<!-- 140686658873584&#45;&gt;140686658876560* -->\n",
       "<g id=\"edge9\" class=\"edge\">\n",
       "<title>140686658873584&#45;&gt;140686658876560*</title>\n",
       "<path fill=\"none\" stroke=\"black\" d=\"M953.15,-89.98C962.01,-91.34 970.48,-92.64 978.16,-93.81\"/>\n",
       "<polygon fill=\"black\" stroke=\"black\" points=\"977.61,-97.27 988.02,-95.33 978.67,-90.35 977.61,-97.27\"/>\n",
       "</g>\n",
       "<!-- 140686658873584+&#45;&gt;140686658873584 -->\n",
       "<g id=\"edge3\" class=\"edge\">\n",
       "<title>140686658873584+&#45;&gt;140686658873584</title>\n",
       "<path fill=\"none\" stroke=\"black\" d=\"M687.37,-72.5C694.6,-72.5 702.95,-72.5 711.92,-72.5\"/>\n",
       "<polygon fill=\"black\" stroke=\"black\" points=\"711.64,-76 721.64,-72.5 711.64,-69 711.64,-76\"/>\n",
       "</g>\n",
       "<!-- 140686658870176 -->\n",
       "<g id=\"node10\" class=\"node\">\n",
       "<title>140686658870176</title>\n",
       "<polygon fill=\"none\" stroke=\"black\" points=\"360,-82.5 360,-118.5 597,-118.5 597,-82.5 360,-82.5\"/>\n",
       "<text text-anchor=\"middle\" x=\"371.75\" y=\"-96.2\" font-family=\"Times,serif\" font-size=\"14.00\">c</text>\n",
       "<polyline fill=\"none\" stroke=\"black\" points=\"383.5,-83.25 383.5,-118.5\"/>\n",
       "<text text-anchor=\"middle\" x=\"438.75\" y=\"-96.2\" font-family=\"Times,serif\" font-size=\"14.00\">data 10.0000</text>\n",
       "<polyline fill=\"none\" stroke=\"black\" points=\"494,-83.25 494,-118.5\"/>\n",
       "<text text-anchor=\"middle\" x=\"545.5\" y=\"-96.2\" font-family=\"Times,serif\" font-size=\"14.00\">grad 0.0000</text>\n",
       "</g>\n",
       "<!-- 140686658870176&#45;&gt;140686658873584+ -->\n",
       "<g id=\"edge7\" class=\"edge\">\n",
       "<title>140686658870176&#45;&gt;140686658873584+</title>\n",
       "<path fill=\"none\" stroke=\"black\" d=\"M597.48,-82.1C606.21,-80.73 614.54,-79.43 622.1,-78.26\"/>\n",
       "<polygon fill=\"black\" stroke=\"black\" points=\"622.44,-81.74 631.79,-76.75 621.37,-74.83 622.44,-81.74\"/>\n",
       "</g>\n",
       "</g>\n",
       "</svg>\n"
      ],
      "text/plain": [
       "<graphviz.graphs.Digraph at 0x7ff42a53a980>"
      ]
     },
     "execution_count": 26,
     "metadata": {},
     "output_type": "execute_result"
    }
   ],
   "source": [
    "draw_dot(L)"
   ]
  },
  {
   "cell_type": "markdown",
   "metadata": {},
   "source": [
    "### Chain Rule\n",
    "\n",
    "dL/df = delta L / ((f+h)-f)\n",
    "\n",
    "dL/dc = dL/df * df/dc\n",
    "\n",
    "'+' : derivative 1\n",
    "\n",
    "'*' : derivative other node value\n",
    "\n"
   ]
  },
  {
   "cell_type": "code",
   "execution_count": 27,
   "metadata": {},
   "outputs": [],
   "source": [
    "#dL/dd\n",
    "L.grad = 1.0\n",
    "f.grad = 4.0\n",
    "d.grad = -2.0\n",
    "e.grad = -2.0\n",
    "c.grad = -2.0\n",
    "a.grad = -2.0 * -3.0\n",
    "b.grad = -2.0 * 2.0"
   ]
  },
  {
   "cell_type": "code",
   "execution_count": 28,
   "metadata": {},
   "outputs": [
    {
     "data": {
      "image/svg+xml": [
       "<?xml version=\"1.0\" encoding=\"UTF-8\" standalone=\"no\"?>\n",
       "<!DOCTYPE svg PUBLIC \"-//W3C//DTD SVG 1.1//EN\"\n",
       " \"http://www.w3.org/Graphics/SVG/1.1/DTD/svg11.dtd\">\n",
       "<!-- Generated by graphviz version 9.0.0 (20231125.0833)\n",
       " -->\n",
       "<!-- Pages: 1 -->\n",
       "<svg width=\"1334pt\" height=\"154pt\"\n",
       " viewBox=\"0.00 0.00 1334.00 154.00\" xmlns=\"http://www.w3.org/2000/svg\" xmlns:xlink=\"http://www.w3.org/1999/xlink\">\n",
       "<g id=\"graph0\" class=\"graph\" transform=\"scale(1 1) rotate(0) translate(4 150)\">\n",
       "<polygon fill=\"white\" stroke=\"none\" points=\"-4,4 -4,-150 1330,-150 1330,4 -4,4\"/>\n",
       "<!-- 140686658864656 -->\n",
       "<g id=\"node1\" class=\"node\">\n",
       "<title>140686658864656</title>\n",
       "<polygon fill=\"none\" stroke=\"black\" points=\"366.38,-27.5 366.38,-63.5 604.12,-63.5 604.12,-27.5 366.38,-27.5\"/>\n",
       "<text text-anchor=\"middle\" x=\"378.5\" y=\"-41.2\" font-family=\"Times,serif\" font-size=\"14.00\">e</text>\n",
       "<polyline fill=\"none\" stroke=\"black\" points=\"390.62,-28.25 390.62,-63.5\"/>\n",
       "<text text-anchor=\"middle\" x=\"443.62\" y=\"-41.2\" font-family=\"Times,serif\" font-size=\"14.00\">data &#45;6.0000</text>\n",
       "<polyline fill=\"none\" stroke=\"black\" points=\"496.62,-28.25 496.62,-63.5\"/>\n",
       "<text text-anchor=\"middle\" x=\"550.38\" y=\"-41.2\" font-family=\"Times,serif\" font-size=\"14.00\">grad &#45;2.0000</text>\n",
       "</g>\n",
       "<!-- 140686658873584+ -->\n",
       "<g id=\"node9\" class=\"node\">\n",
       "<title>140686658873584+</title>\n",
       "<ellipse fill=\"none\" stroke=\"black\" cx=\"669\" cy=\"-72.5\" rx=\"27\" ry=\"18\"/>\n",
       "<text text-anchor=\"middle\" x=\"669\" y=\"-67.83\" font-family=\"Times,serif\" font-size=\"14.00\">+</text>\n",
       "</g>\n",
       "<!-- 140686658864656&#45;&gt;140686658873584+ -->\n",
       "<g id=\"edge4\" class=\"edge\">\n",
       "<title>140686658864656&#45;&gt;140686658873584+</title>\n",
       "<path fill=\"none\" stroke=\"black\" d=\"M604.43,-63.06C613.91,-64.46 622.95,-65.81 631.08,-67.02\"/>\n",
       "<polygon fill=\"black\" stroke=\"black\" points=\"630.39,-70.45 640.8,-68.46 631.42,-63.53 630.39,-70.45\"/>\n",
       "</g>\n",
       "<!-- 140686658864656* -->\n",
       "<g id=\"node2\" class=\"node\">\n",
       "<title>140686658864656*</title>\n",
       "<ellipse fill=\"none\" stroke=\"black\" cx=\"301.5\" cy=\"-45.5\" rx=\"27\" ry=\"18\"/>\n",
       "<text text-anchor=\"middle\" x=\"301.5\" y=\"-40.83\" font-family=\"Times,serif\" font-size=\"14.00\">*</text>\n",
       "</g>\n",
       "<!-- 140686658864656*&#45;&gt;140686658864656 -->\n",
       "<g id=\"edge1\" class=\"edge\">\n",
       "<title>140686658864656*&#45;&gt;140686658864656</title>\n",
       "<path fill=\"none\" stroke=\"black\" d=\"M328.93,-45.5C336.5,-45.5 345.3,-45.5 354.79,-45.5\"/>\n",
       "<polygon fill=\"black\" stroke=\"black\" points=\"354.7,-49 364.7,-45.5 354.7,-42 354.7,-49\"/>\n",
       "</g>\n",
       "<!-- 140686658873392 -->\n",
       "<g id=\"node3\" class=\"node\">\n",
       "<title>140686658873392</title>\n",
       "<polygon fill=\"none\" stroke=\"black\" points=\"733.88,-109.5 733.88,-145.5 964.12,-145.5 964.12,-109.5 733.88,-109.5\"/>\n",
       "<text text-anchor=\"middle\" x=\"744.5\" y=\"-123.2\" font-family=\"Times,serif\" font-size=\"14.00\">f</text>\n",
       "<polyline fill=\"none\" stroke=\"black\" points=\"755.12,-110.25 755.12,-145.5\"/>\n",
       "<text text-anchor=\"middle\" x=\"808.12\" y=\"-123.2\" font-family=\"Times,serif\" font-size=\"14.00\">data &#45;2.0000</text>\n",
       "<polyline fill=\"none\" stroke=\"black\" points=\"861.12,-110.25 861.12,-145.5\"/>\n",
       "<text text-anchor=\"middle\" x=\"912.62\" y=\"-123.2\" font-family=\"Times,serif\" font-size=\"14.00\">grad 4.0000</text>\n",
       "</g>\n",
       "<!-- 140686658876560* -->\n",
       "<g id=\"node6\" class=\"node\">\n",
       "<title>140686658876560*</title>\n",
       "<ellipse fill=\"none\" stroke=\"black\" cx=\"1029\" cy=\"-99.5\" rx=\"27\" ry=\"18\"/>\n",
       "<text text-anchor=\"middle\" x=\"1029\" y=\"-94.83\" font-family=\"Times,serif\" font-size=\"14.00\">*</text>\n",
       "</g>\n",
       "<!-- 140686658873392&#45;&gt;140686658876560* -->\n",
       "<g id=\"edge8\" class=\"edge\">\n",
       "<title>140686658873392&#45;&gt;140686658876560*</title>\n",
       "<path fill=\"none\" stroke=\"black\" d=\"M964.49,-109.49C973.92,-108.01 982.94,-106.59 991.06,-105.31\"/>\n",
       "<polygon fill=\"black\" stroke=\"black\" points=\"991.44,-108.79 1000.77,-103.78 990.35,-101.88 991.44,-108.79\"/>\n",
       "</g>\n",
       "<!-- 140686658866768 -->\n",
       "<g id=\"node4\" class=\"node\">\n",
       "<title>140686658866768</title>\n",
       "<polygon fill=\"none\" stroke=\"black\" points=\"4.88,-55.5 4.88,-91.5 233.62,-91.5 233.62,-55.5 4.88,-55.5\"/>\n",
       "<text text-anchor=\"middle\" x=\"17\" y=\"-69.2\" font-family=\"Times,serif\" font-size=\"14.00\">a</text>\n",
       "<polyline fill=\"none\" stroke=\"black\" points=\"29.12,-56.25 29.12,-91.5\"/>\n",
       "<text text-anchor=\"middle\" x=\"79.88\" y=\"-69.2\" font-family=\"Times,serif\" font-size=\"14.00\">data 2.0000</text>\n",
       "<polyline fill=\"none\" stroke=\"black\" points=\"130.62,-56.25 130.62,-91.5\"/>\n",
       "<text text-anchor=\"middle\" x=\"182.12\" y=\"-69.2\" font-family=\"Times,serif\" font-size=\"14.00\">grad 6.0000</text>\n",
       "</g>\n",
       "<!-- 140686658866768&#45;&gt;140686658864656* -->\n",
       "<g id=\"edge6\" class=\"edge\">\n",
       "<title>140686658866768&#45;&gt;140686658864656*</title>\n",
       "<path fill=\"none\" stroke=\"black\" d=\"M233.89,-55.85C244.45,-54.21 254.55,-52.64 263.54,-51.24\"/>\n",
       "<polygon fill=\"black\" stroke=\"black\" points=\"263.84,-54.74 273.18,-49.74 262.77,-47.82 263.84,-54.74\"/>\n",
       "</g>\n",
       "<!-- 140686658876560 -->\n",
       "<g id=\"node5\" class=\"node\">\n",
       "<title>140686658876560</title>\n",
       "<polygon fill=\"none\" stroke=\"black\" points=\"1092,-81.5 1092,-117.5 1326,-117.5 1326,-81.5 1092,-81.5\"/>\n",
       "<text text-anchor=\"middle\" x=\"1104.5\" y=\"-95.2\" font-family=\"Times,serif\" font-size=\"14.00\">L</text>\n",
       "<polyline fill=\"none\" stroke=\"black\" points=\"1117,-82.25 1117,-117.5\"/>\n",
       "<text text-anchor=\"middle\" x=\"1170\" y=\"-95.2\" font-family=\"Times,serif\" font-size=\"14.00\">data &#45;8.0000</text>\n",
       "<polyline fill=\"none\" stroke=\"black\" points=\"1223,-82.25 1223,-117.5\"/>\n",
       "<text text-anchor=\"middle\" x=\"1274.5\" y=\"-95.2\" font-family=\"Times,serif\" font-size=\"14.00\">grad 1.0000</text>\n",
       "</g>\n",
       "<!-- 140686658876560*&#45;&gt;140686658876560 -->\n",
       "<g id=\"edge2\" class=\"edge\">\n",
       "<title>140686658876560*&#45;&gt;140686658876560</title>\n",
       "<path fill=\"none\" stroke=\"black\" d=\"M1056.26,-99.5C1063.34,-99.5 1071.48,-99.5 1080.25,-99.5\"/>\n",
       "<polygon fill=\"black\" stroke=\"black\" points=\"1080.15,-103 1090.15,-99.5 1080.15,-96 1080.15,-103\"/>\n",
       "</g>\n",
       "<!-- 140686658875600 -->\n",
       "<g id=\"node7\" class=\"node\">\n",
       "<title>140686658875600</title>\n",
       "<polygon fill=\"none\" stroke=\"black\" points=\"0,-0.5 0,-36.5 238.5,-36.5 238.5,-0.5 0,-0.5\"/>\n",
       "<text text-anchor=\"middle\" x=\"12.5\" y=\"-14.2\" font-family=\"Times,serif\" font-size=\"14.00\">b</text>\n",
       "<polyline fill=\"none\" stroke=\"black\" points=\"25,-1.25 25,-36.5\"/>\n",
       "<text text-anchor=\"middle\" x=\"78\" y=\"-14.2\" font-family=\"Times,serif\" font-size=\"14.00\">data &#45;3.0000</text>\n",
       "<polyline fill=\"none\" stroke=\"black\" points=\"131,-1.25 131,-36.5\"/>\n",
       "<text text-anchor=\"middle\" x=\"184.75\" y=\"-14.2\" font-family=\"Times,serif\" font-size=\"14.00\">grad &#45;4.0000</text>\n",
       "</g>\n",
       "<!-- 140686658875600&#45;&gt;140686658864656* -->\n",
       "<g id=\"edge5\" class=\"edge\">\n",
       "<title>140686658875600&#45;&gt;140686658864656*</title>\n",
       "<path fill=\"none\" stroke=\"black\" d=\"M238.97,-36.28C247.71,-37.59 256.05,-38.84 263.61,-39.97\"/>\n",
       "<polygon fill=\"black\" stroke=\"black\" points=\"262.88,-43.4 273.29,-41.42 263.92,-36.48 262.88,-43.4\"/>\n",
       "</g>\n",
       "<!-- 140686658873584 -->\n",
       "<g id=\"node8\" class=\"node\">\n",
       "<title>140686658873584</title>\n",
       "<polygon fill=\"none\" stroke=\"black\" points=\"732,-54.5 732,-90.5 966,-90.5 966,-54.5 732,-54.5\"/>\n",
       "<text text-anchor=\"middle\" x=\"744.5\" y=\"-68.2\" font-family=\"Times,serif\" font-size=\"14.00\">d</text>\n",
       "<polyline fill=\"none\" stroke=\"black\" points=\"757,-55.25 757,-90.5\"/>\n",
       "<text text-anchor=\"middle\" x=\"807.75\" y=\"-68.2\" font-family=\"Times,serif\" font-size=\"14.00\">data 4.0000</text>\n",
       "<polyline fill=\"none\" stroke=\"black\" points=\"858.5,-55.25 858.5,-90.5\"/>\n",
       "<text text-anchor=\"middle\" x=\"912.25\" y=\"-68.2\" font-family=\"Times,serif\" font-size=\"14.00\">grad &#45;2.0000</text>\n",
       "</g>\n",
       "<!-- 140686658873584&#45;&gt;140686658876560* -->\n",
       "<g id=\"edge9\" class=\"edge\">\n",
       "<title>140686658873584&#45;&gt;140686658876560*</title>\n",
       "<path fill=\"none\" stroke=\"black\" d=\"M966.24,-90.13C974.99,-91.46 983.34,-92.73 990.93,-93.88\"/>\n",
       "<polygon fill=\"black\" stroke=\"black\" points=\"990.24,-97.31 1000.66,-95.35 991.29,-90.39 990.24,-97.31\"/>\n",
       "</g>\n",
       "<!-- 140686658873584+&#45;&gt;140686658873584 -->\n",
       "<g id=\"edge3\" class=\"edge\">\n",
       "<title>140686658873584+&#45;&gt;140686658873584</title>\n",
       "<path fill=\"none\" stroke=\"black\" d=\"M696.26,-72.5C703.34,-72.5 711.48,-72.5 720.25,-72.5\"/>\n",
       "<polygon fill=\"black\" stroke=\"black\" points=\"720.15,-76 730.15,-72.5 720.15,-69 720.15,-76\"/>\n",
       "</g>\n",
       "<!-- 140686658870176 -->\n",
       "<g id=\"node10\" class=\"node\">\n",
       "<title>140686658870176</title>\n",
       "<polygon fill=\"none\" stroke=\"black\" points=\"364.5,-82.5 364.5,-118.5 606,-118.5 606,-82.5 364.5,-82.5\"/>\n",
       "<text text-anchor=\"middle\" x=\"376.25\" y=\"-96.2\" font-family=\"Times,serif\" font-size=\"14.00\">c</text>\n",
       "<polyline fill=\"none\" stroke=\"black\" points=\"388,-83.25 388,-118.5\"/>\n",
       "<text text-anchor=\"middle\" x=\"443.25\" y=\"-96.2\" font-family=\"Times,serif\" font-size=\"14.00\">data 10.0000</text>\n",
       "<polyline fill=\"none\" stroke=\"black\" points=\"498.5,-83.25 498.5,-118.5\"/>\n",
       "<text text-anchor=\"middle\" x=\"552.25\" y=\"-96.2\" font-family=\"Times,serif\" font-size=\"14.00\">grad &#45;2.0000</text>\n",
       "</g>\n",
       "<!-- 140686658870176&#45;&gt;140686658873584+ -->\n",
       "<g id=\"edge7\" class=\"edge\">\n",
       "<title>140686658870176&#45;&gt;140686658873584+</title>\n",
       "<path fill=\"none\" stroke=\"black\" d=\"M606.21,-82.02C614.99,-80.67 623.37,-79.38 630.96,-78.21\"/>\n",
       "<polygon fill=\"black\" stroke=\"black\" points=\"631.35,-81.69 640.7,-76.71 630.28,-74.77 631.35,-81.69\"/>\n",
       "</g>\n",
       "</g>\n",
       "</svg>\n"
      ],
      "text/plain": [
       "<graphviz.graphs.Digraph at 0x7ff42a53add0>"
      ]
     },
     "execution_count": 28,
     "metadata": {},
     "output_type": "execute_result"
    }
   ],
   "source": [
    "draw_dot(L)"
   ]
  },
  {
   "cell_type": "code",
   "execution_count": 29,
   "metadata": {},
   "outputs": [
    {
     "name": "stdout",
     "output_type": "stream",
     "text": [
      "-7.286496\n"
     ]
    }
   ],
   "source": [
    "# forward pass\n",
    "a.data += 0.01 * a.grad\n",
    "b.data += 0.01 * b.grad\n",
    "c.data += 0.01 * c.grad\n",
    "f.data += 0.01 * f.grad\n",
    "\n",
    "e = a * b\n",
    "d = e + c\n",
    "L = d * f\n",
    "\n",
    "print(L.data)"
   ]
  },
  {
   "cell_type": "code",
   "execution_count": 30,
   "metadata": {},
   "outputs": [
    {
     "data": {
      "text/plain": [
       "(-1.96, 4.0)"
      ]
     },
     "execution_count": 30,
     "metadata": {},
     "output_type": "execute_result"
    }
   ],
   "source": [
    "f.data, f.grad"
   ]
  },
  {
   "cell_type": "code",
   "execution_count": null,
   "metadata": {},
   "outputs": [],
   "source": []
  },
  {
   "cell_type": "code",
   "execution_count": 31,
   "metadata": {},
   "outputs": [
    {
     "name": "stdout",
     "output_type": "stream",
     "text": [
      "-3.9999999999995595\n"
     ]
    }
   ],
   "source": [
    "def lol():\n",
    "    h = 0.001\n",
    "\n",
    "    a = Value(2.0, label='a')\n",
    "    b = Value(-3.0, label='b')\n",
    "    c = Value(10, label='c')\n",
    "    e = a*b; e.label = 'e'\n",
    "    d = e + c; d.label = 'd'\n",
    "    f = Value(-2.0, label='f')\n",
    "    L = d * f; L.label = 'L'\n",
    "    L1 = L.data\n",
    "\n",
    "\n",
    "    a = Value(2.0, label='a')\n",
    "    b = Value(-3.0, label='b')\n",
    "    b.data += h\n",
    "    c = Value(10, label='c')\n",
    "    e = a*b; e.label = 'e'\n",
    "    # c.data += h\n",
    "    d = e + c; d.label = 'd'\n",
    "    f = Value(-2.0, label='f')\n",
    "    L = d * f; L.label = 'L'\n",
    "    L2 = L.data\n",
    "\n",
    "    print((L2 - L1)/h)\n",
    "\n",
    "lol()"
   ]
  },
  {
   "cell_type": "code",
   "execution_count": 32,
   "metadata": {},
   "outputs": [
    {
     "data": {
      "image/png": "[encoded data removed]",
      "text/plain": [
       "<Figure size 640x480 with 1 Axes>"
      ]
     },
     "metadata": {},
     "output_type": "display_data"
    }
   ],
   "source": [
    "# tanh\n",
    "plt.plot(np.arange(-5,5,0.2), np.tanh(np.arange(-5,5,0.2))); plt.grid()"
   ]
  },
  {
   "cell_type": "code",
   "execution_count": 74,
   "metadata": {},
   "outputs": [],
   "source": [
    "# backpropagation\n",
    "\n",
    "# inputs x1,x2\n",
    "x1 = Value(2.0, label='x1')\n",
    "x2 = Value(0.0, label='x2')\n",
    "\n",
    "# weights w1,w2\n",
    "w1 = Value(-3.0, label='w1')\n",
    "w2 = Value(1.0, label='w2')\n",
    "\n",
    "# bias of the neuron\n",
    "b = Value(6.8813735870195432, label='b')\n",
    "\n",
    "# x1w1 + x2w2 + b\n",
    "x1w1 = x1*w1; x1w1.label = 'x1w1'\n",
    "x2w2 = x2*w2; x2w2.label = 'x2w2'\n",
    "\n",
    "x1w1x2w2 = x1w1 + x2w2; x1w1x2w2.label = 'x1w1 + x2w2'\n",
    "n = x1w1x2w2 + b; n.label = 'n'\n",
    "o = n.tanh(); o.label = 'o'\n",
    "o.backward()\n"
   ]
  },
  {
   "cell_type": "code",
   "execution_count": 75,
   "metadata": {},
   "outputs": [
    {
     "data": {
      "image/svg+xml": [
       "<?xml version=\"1.0\" encoding=\"UTF-8\" standalone=\"no\"?>\n",
       "<!DOCTYPE svg PUBLIC \"-//W3C//DTD SVG 1.1//EN\"\n",
       " \"http://www.w3.org/Graphics/SVG/1.1/DTD/svg11.dtd\">\n",
       "<!-- Generated by graphviz version 9.0.0 (20231125.0833)\n",
       " -->\n",
       "<!-- Pages: 1 -->\n",
       "<svg width=\"1816pt\" height=\"210pt\"\n",
       " viewBox=\"0.00 0.00 1815.69 210.00\" xmlns=\"http://www.w3.org/2000/svg\" xmlns:xlink=\"http://www.w3.org/1999/xlink\">\n",
       "<g id=\"graph0\" class=\"graph\" transform=\"scale(1 1) rotate(0) translate(4 206)\">\n",
       "<polygon fill=\"white\" stroke=\"none\" points=\"-4,4 -4,-206 1811.69,-206 1811.69,4 -4,4\"/>\n",
       "<!-- 140686648913936 -->\n",
       "<g id=\"node1\" class=\"node\">\n",
       "<title>140686648913936</title>\n",
       "<polygon fill=\"none\" stroke=\"black\" points=\"807.75,-137.5 807.75,-173.5 1037.25,-173.5 1037.25,-137.5 807.75,-137.5\"/>\n",
       "<text text-anchor=\"middle\" x=\"820.25\" y=\"-151.2\" font-family=\"Times,serif\" font-size=\"14.00\">b</text>\n",
       "<polyline fill=\"none\" stroke=\"black\" points=\"832.75,-138.25 832.75,-173.5\"/>\n",
       "<text text-anchor=\"middle\" x=\"883.5\" y=\"-151.2\" font-family=\"Times,serif\" font-size=\"14.00\">data 6.8814</text>\n",
       "<polyline fill=\"none\" stroke=\"black\" points=\"934.25,-138.25 934.25,-173.5\"/>\n",
       "<text text-anchor=\"middle\" x=\"985.75\" y=\"-151.2\" font-family=\"Times,serif\" font-size=\"14.00\">grad 0.5000</text>\n",
       "</g>\n",
       "<!-- 140686648915616+ -->\n",
       "<g id=\"node8\" class=\"node\">\n",
       "<title>140686648915616+</title>\n",
       "<ellipse fill=\"none\" stroke=\"black\" cx=\"1146.75\" cy=\"-127.5\" rx=\"27\" ry=\"18\"/>\n",
       "<text text-anchor=\"middle\" x=\"1146.75\" y=\"-122.83\" font-family=\"Times,serif\" font-size=\"14.00\">+</text>\n",
       "</g>\n",
       "<!-- 140686648913936&#45;&gt;140686648915616+ -->\n",
       "<g id=\"edge8\" class=\"edge\">\n",
       "<title>140686648913936&#45;&gt;140686648915616+</title>\n",
       "<path fill=\"none\" stroke=\"black\" d=\"M1037.55,-141.13C1063.27,-137.89 1088.78,-134.68 1108.56,-132.19\"/>\n",
       "<polygon fill=\"black\" stroke=\"black\" points=\"1108.81,-135.68 1118.3,-130.96 1107.94,-128.74 1108.81,-135.68\"/>\n",
       "</g>\n",
       "<!-- 140686648914464 -->\n",
       "<g id=\"node2\" class=\"node\">\n",
       "<title>140686648914464</title>\n",
       "<polygon fill=\"none\" stroke=\"black\" points=\"374.25,-110.5 374.25,-146.5 633,-146.5 633,-110.5 374.25,-110.5\"/>\n",
       "<text text-anchor=\"middle\" x=\"401.38\" y=\"-124.2\" font-family=\"Times,serif\" font-size=\"14.00\">x2w2</text>\n",
       "<polyline fill=\"none\" stroke=\"black\" points=\"428.5,-111.25 428.5,-146.5\"/>\n",
       "<text text-anchor=\"middle\" x=\"479.25\" y=\"-124.2\" font-family=\"Times,serif\" font-size=\"14.00\">data 0.0000</text>\n",
       "<polyline fill=\"none\" stroke=\"black\" points=\"530,-111.25 530,-146.5\"/>\n",
       "<text text-anchor=\"middle\" x=\"581.5\" y=\"-124.2\" font-family=\"Times,serif\" font-size=\"14.00\">grad 0.5000</text>\n",
       "</g>\n",
       "<!-- 140686648914080+ -->\n",
       "<g id=\"node10\" class=\"node\">\n",
       "<title>140686648914080+</title>\n",
       "<ellipse fill=\"none\" stroke=\"black\" cx=\"698.25\" cy=\"-100.5\" rx=\"27\" ry=\"18\"/>\n",
       "<text text-anchor=\"middle\" x=\"698.25\" y=\"-95.83\" font-family=\"Times,serif\" font-size=\"14.00\">+</text>\n",
       "</g>\n",
       "<!-- 140686648914464&#45;&gt;140686648914080+ -->\n",
       "<g id=\"edge6\" class=\"edge\">\n",
       "<title>140686648914464&#45;&gt;140686648914080+</title>\n",
       "<path fill=\"none\" stroke=\"black\" d=\"M631.77,-110.02C642,-108.53 651.71,-107.12 660.37,-105.86\"/>\n",
       "<polygon fill=\"black\" stroke=\"black\" points=\"660.59,-109.37 669.98,-104.46 659.58,-102.44 660.59,-109.37\"/>\n",
       "</g>\n",
       "<!-- 140686648914464* -->\n",
       "<g id=\"node3\" class=\"node\">\n",
       "<title>140686648914464*</title>\n",
       "<ellipse fill=\"none\" stroke=\"black\" cx=\"309\" cy=\"-128.5\" rx=\"27\" ry=\"18\"/>\n",
       "<text text-anchor=\"middle\" x=\"309\" y=\"-123.83\" font-family=\"Times,serif\" font-size=\"14.00\">*</text>\n",
       "</g>\n",
       "<!-- 140686648914464*&#45;&gt;140686648914464 -->\n",
       "<g id=\"edge1\" class=\"edge\">\n",
       "<title>140686648914464*&#45;&gt;140686648914464</title>\n",
       "<path fill=\"none\" stroke=\"black\" d=\"M336.38,-128.5C343.93,-128.5 352.73,-128.5 362.27,-128.5\"/>\n",
       "<polygon fill=\"black\" stroke=\"black\" points=\"362.25,-132 372.25,-128.5 362.25,-125 362.25,-132\"/>\n",
       "</g>\n",
       "<!-- 140686648908368 -->\n",
       "<g id=\"node4\" class=\"node\">\n",
       "<title>140686648908368</title>\n",
       "<polygon fill=\"none\" stroke=\"black\" points=\"4.12,-165.5 4.12,-201.5 241.88,-201.5 241.88,-165.5 4.12,-165.5\"/>\n",
       "<text text-anchor=\"middle\" x=\"20.75\" y=\"-179.2\" font-family=\"Times,serif\" font-size=\"14.00\">x2</text>\n",
       "<polyline fill=\"none\" stroke=\"black\" points=\"37.38,-166.25 37.38,-201.5\"/>\n",
       "<text text-anchor=\"middle\" x=\"88.12\" y=\"-179.2\" font-family=\"Times,serif\" font-size=\"14.00\">data 0.0000</text>\n",
       "<polyline fill=\"none\" stroke=\"black\" points=\"138.88,-166.25 138.88,-201.5\"/>\n",
       "<text text-anchor=\"middle\" x=\"190.38\" y=\"-179.2\" font-family=\"Times,serif\" font-size=\"14.00\">grad 0.5000</text>\n",
       "</g>\n",
       "<!-- 140686648908368&#45;&gt;140686648914464* -->\n",
       "<g id=\"edge12\" class=\"edge\">\n",
       "<title>140686648908368&#45;&gt;140686648914464*</title>\n",
       "<path fill=\"none\" stroke=\"black\" d=\"M216.81,-165.07C226.74,-162.47 236.63,-159.61 246,-156.5 256.18,-153.12 266.94,-148.61 276.59,-144.2\"/>\n",
       "<polygon fill=\"black\" stroke=\"black\" points=\"277.99,-147.41 285.55,-139.98 275.01,-141.08 277.99,-147.41\"/>\n",
       "</g>\n",
       "<!-- 140686648707200 -->\n",
       "<g id=\"node5\" class=\"node\">\n",
       "<title>140686648707200</title>\n",
       "<polygon fill=\"none\" stroke=\"black\" points=\"1578.94,-109.5 1578.94,-145.5 1807.69,-145.5 1807.69,-109.5 1578.94,-109.5\"/>\n",
       "<text text-anchor=\"middle\" x=\"1591.07\" y=\"-123.2\" font-family=\"Times,serif\" font-size=\"14.00\">o</text>\n",
       "<polyline fill=\"none\" stroke=\"black\" points=\"1603.19,-110.25 1603.19,-145.5\"/>\n",
       "<text text-anchor=\"middle\" x=\"1653.94\" y=\"-123.2\" font-family=\"Times,serif\" font-size=\"14.00\">data 0.7071</text>\n",
       "<polyline fill=\"none\" stroke=\"black\" points=\"1704.69,-110.25 1704.69,-145.5\"/>\n",
       "<text text-anchor=\"middle\" x=\"1756.19\" y=\"-123.2\" font-family=\"Times,serif\" font-size=\"14.00\">grad 1.0000</text>\n",
       "</g>\n",
       "<!-- 140686648707200tanh -->\n",
       "<g id=\"node6\" class=\"node\">\n",
       "<title>140686648707200tanh</title>\n",
       "<ellipse fill=\"none\" stroke=\"black\" cx=\"1509.1\" cy=\"-127.5\" rx=\"33.85\" ry=\"18\"/>\n",
       "<text text-anchor=\"middle\" x=\"1509.1\" y=\"-122.83\" font-family=\"Times,serif\" font-size=\"14.00\">tanh</text>\n",
       "</g>\n",
       "<!-- 140686648707200tanh&#45;&gt;140686648707200 -->\n",
       "<g id=\"edge2\" class=\"edge\">\n",
       "<title>140686648707200tanh&#45;&gt;140686648707200</title>\n",
       "<path fill=\"none\" stroke=\"black\" d=\"M1543.1,-127.5C1550.45,-127.5 1558.67,-127.5 1567.38,-127.5\"/>\n",
       "<polygon fill=\"black\" stroke=\"black\" points=\"1567.11,-131 1577.11,-127.5 1567.11,-124 1567.11,-131\"/>\n",
       "</g>\n",
       "<!-- 140686648915616 -->\n",
       "<g id=\"node7\" class=\"node\">\n",
       "<title>140686648915616</title>\n",
       "<polygon fill=\"none\" stroke=\"black\" points=\"1209.75,-109.5 1209.75,-145.5 1439.25,-145.5 1439.25,-109.5 1209.75,-109.5\"/>\n",
       "<text text-anchor=\"middle\" x=\"1222.25\" y=\"-123.2\" font-family=\"Times,serif\" font-size=\"14.00\">n</text>\n",
       "<polyline fill=\"none\" stroke=\"black\" points=\"1234.75,-110.25 1234.75,-145.5\"/>\n",
       "<text text-anchor=\"middle\" x=\"1285.5\" y=\"-123.2\" font-family=\"Times,serif\" font-size=\"14.00\">data 0.8814</text>\n",
       "<polyline fill=\"none\" stroke=\"black\" points=\"1336.25,-110.25 1336.25,-145.5\"/>\n",
       "<text text-anchor=\"middle\" x=\"1387.75\" y=\"-123.2\" font-family=\"Times,serif\" font-size=\"14.00\">grad 0.5000</text>\n",
       "</g>\n",
       "<!-- 140686648915616&#45;&gt;140686648707200tanh -->\n",
       "<g id=\"edge9\" class=\"edge\">\n",
       "<title>140686648915616&#45;&gt;140686648707200tanh</title>\n",
       "<path fill=\"none\" stroke=\"black\" d=\"M1439.58,-127.5C1448.01,-127.5 1456.15,-127.5 1463.71,-127.5\"/>\n",
       "<polygon fill=\"black\" stroke=\"black\" points=\"1463.54,-131 1473.54,-127.5 1463.54,-124 1463.54,-131\"/>\n",
       "</g>\n",
       "<!-- 140686648915616+&#45;&gt;140686648915616 -->\n",
       "<g id=\"edge3\" class=\"edge\">\n",
       "<title>140686648915616+&#45;&gt;140686648915616</title>\n",
       "<path fill=\"none\" stroke=\"black\" d=\"M1174.06,-127.5C1181.13,-127.5 1189.27,-127.5 1198.02,-127.5\"/>\n",
       "<polygon fill=\"black\" stroke=\"black\" points=\"1197.89,-131 1207.89,-127.5 1197.89,-124 1197.89,-131\"/>\n",
       "</g>\n",
       "<!-- 140686648914080 -->\n",
       "<g id=\"node9\" class=\"node\">\n",
       "<title>140686648914080</title>\n",
       "<polygon fill=\"none\" stroke=\"black\" points=\"761.25,-82.5 761.25,-118.5 1083.75,-118.5 1083.75,-82.5 761.25,-82.5\"/>\n",
       "<text text-anchor=\"middle\" x=\"818\" y=\"-96.2\" font-family=\"Times,serif\" font-size=\"14.00\">x1w1 + x2w2</text>\n",
       "<polyline fill=\"none\" stroke=\"black\" points=\"874.75,-83.25 874.75,-118.5\"/>\n",
       "<text text-anchor=\"middle\" x=\"927.75\" y=\"-96.2\" font-family=\"Times,serif\" font-size=\"14.00\">data &#45;6.0000</text>\n",
       "<polyline fill=\"none\" stroke=\"black\" points=\"980.75,-83.25 980.75,-118.5\"/>\n",
       "<text text-anchor=\"middle\" x=\"1032.25\" y=\"-96.2\" font-family=\"Times,serif\" font-size=\"14.00\">grad 0.5000</text>\n",
       "</g>\n",
       "<!-- 140686648914080&#45;&gt;140686648915616+ -->\n",
       "<g id=\"edge7\" class=\"edge\">\n",
       "<title>140686648914080&#45;&gt;140686648915616+</title>\n",
       "<path fill=\"none\" stroke=\"black\" d=\"M1075.73,-118.99C1087.62,-120.44 1098.78,-121.79 1108.55,-122.98\"/>\n",
       "<polygon fill=\"black\" stroke=\"black\" points=\"1107.87,-126.42 1118.22,-124.16 1108.72,-119.48 1107.87,-126.42\"/>\n",
       "</g>\n",
       "<!-- 140686648914080+&#45;&gt;140686648914080 -->\n",
       "<g id=\"edge4\" class=\"edge\">\n",
       "<title>140686648914080+&#45;&gt;140686648914080</title>\n",
       "<path fill=\"none\" stroke=\"black\" d=\"M725.62,-100.5C732.57,-100.5 740.61,-100.5 749.39,-100.5\"/>\n",
       "<polygon fill=\"black\" stroke=\"black\" points=\"749.36,-104 759.36,-100.5 749.36,-97 749.36,-104\"/>\n",
       "</g>\n",
       "<!-- 140686648907984 -->\n",
       "<g id=\"node11\" class=\"node\">\n",
       "<title>140686648907984</title>\n",
       "<polygon fill=\"none\" stroke=\"black\" points=\"0,-55.5 0,-91.5 246,-91.5 246,-55.5 0,-55.5\"/>\n",
       "<text text-anchor=\"middle\" x=\"18.5\" y=\"-69.2\" font-family=\"Times,serif\" font-size=\"14.00\">w1</text>\n",
       "<polyline fill=\"none\" stroke=\"black\" points=\"37,-56.25 37,-91.5\"/>\n",
       "<text text-anchor=\"middle\" x=\"90\" y=\"-69.2\" font-family=\"Times,serif\" font-size=\"14.00\">data &#45;3.0000</text>\n",
       "<polyline fill=\"none\" stroke=\"black\" points=\"143,-56.25 143,-91.5\"/>\n",
       "<text text-anchor=\"middle\" x=\"194.5\" y=\"-69.2\" font-family=\"Times,serif\" font-size=\"14.00\">grad 1.0000</text>\n",
       "</g>\n",
       "<!-- 140686648910048* -->\n",
       "<g id=\"node13\" class=\"node\">\n",
       "<title>140686648910048*</title>\n",
       "<ellipse fill=\"none\" stroke=\"black\" cx=\"309\" cy=\"-73.5\" rx=\"27\" ry=\"18\"/>\n",
       "<text text-anchor=\"middle\" x=\"309\" y=\"-68.83\" font-family=\"Times,serif\" font-size=\"14.00\">*</text>\n",
       "</g>\n",
       "<!-- 140686648907984&#45;&gt;140686648910048* -->\n",
       "<g id=\"edge11\" class=\"edge\">\n",
       "<title>140686648907984&#45;&gt;140686648910048*</title>\n",
       "<path fill=\"none\" stroke=\"black\" d=\"M246.47,-73.5C254.97,-73.5 263.07,-73.5 270.44,-73.5\"/>\n",
       "<polygon fill=\"black\" stroke=\"black\" points=\"270.23,-77 280.23,-73.5 270.23,-70 270.23,-77\"/>\n",
       "</g>\n",
       "<!-- 140686648910048 -->\n",
       "<g id=\"node12\" class=\"node\">\n",
       "<title>140686648910048</title>\n",
       "<polygon fill=\"none\" stroke=\"black\" points=\"372,-55.5 372,-91.5 635.25,-91.5 635.25,-55.5 372,-55.5\"/>\n",
       "<text text-anchor=\"middle\" x=\"399.12\" y=\"-69.2\" font-family=\"Times,serif\" font-size=\"14.00\">x1w1</text>\n",
       "<polyline fill=\"none\" stroke=\"black\" points=\"426.25,-56.25 426.25,-91.5\"/>\n",
       "<text text-anchor=\"middle\" x=\"479.25\" y=\"-69.2\" font-family=\"Times,serif\" font-size=\"14.00\">data &#45;6.0000</text>\n",
       "<polyline fill=\"none\" stroke=\"black\" points=\"532.25,-56.25 532.25,-91.5\"/>\n",
       "<text text-anchor=\"middle\" x=\"583.75\" y=\"-69.2\" font-family=\"Times,serif\" font-size=\"14.00\">grad 0.5000</text>\n",
       "</g>\n",
       "<!-- 140686648910048&#45;&gt;140686648914080+ -->\n",
       "<g id=\"edge14\" class=\"edge\">\n",
       "<title>140686648910048&#45;&gt;140686648914080+</title>\n",
       "<path fill=\"none\" stroke=\"black\" d=\"M635.51,-91.85C644.28,-93.08 652.62,-94.24 660.16,-95.3\"/>\n",
       "<polygon fill=\"black\" stroke=\"black\" points=\"659.42,-98.73 669.81,-96.65 660.39,-91.8 659.42,-98.73\"/>\n",
       "</g>\n",
       "<!-- 140686648910048*&#45;&gt;140686648910048 -->\n",
       "<g id=\"edge5\" class=\"edge\">\n",
       "<title>140686648910048*&#45;&gt;140686648910048</title>\n",
       "<path fill=\"none\" stroke=\"black\" d=\"M336.38,-73.5C343.41,-73.5 351.51,-73.5 360.28,-73.5\"/>\n",
       "<polygon fill=\"black\" stroke=\"black\" points=\"360.21,-77 370.21,-73.5 360.21,-70 360.21,-77\"/>\n",
       "</g>\n",
       "<!-- 140686648906592 -->\n",
       "<g id=\"node14\" class=\"node\">\n",
       "<title>140686648906592</title>\n",
       "<polygon fill=\"none\" stroke=\"black\" points=\"2.25,-110.5 2.25,-146.5 243.75,-146.5 243.75,-110.5 2.25,-110.5\"/>\n",
       "<text text-anchor=\"middle\" x=\"20.75\" y=\"-124.2\" font-family=\"Times,serif\" font-size=\"14.00\">w2</text>\n",
       "<polyline fill=\"none\" stroke=\"black\" points=\"39.25,-111.25 39.25,-146.5\"/>\n",
       "<text text-anchor=\"middle\" x=\"90\" y=\"-124.2\" font-family=\"Times,serif\" font-size=\"14.00\">data 1.0000</text>\n",
       "<polyline fill=\"none\" stroke=\"black\" points=\"140.75,-111.25 140.75,-146.5\"/>\n",
       "<text text-anchor=\"middle\" x=\"192.25\" y=\"-124.2\" font-family=\"Times,serif\" font-size=\"14.00\">grad 0.0000</text>\n",
       "</g>\n",
       "<!-- 140686648906592&#45;&gt;140686648914464* -->\n",
       "<g id=\"edge13\" class=\"edge\">\n",
       "<title>140686648906592&#45;&gt;140686648914464*</title>\n",
       "<path fill=\"none\" stroke=\"black\" d=\"M244.16,-128.5C253.4,-128.5 262.22,-128.5 270.19,-128.5\"/>\n",
       "<polygon fill=\"black\" stroke=\"black\" points=\"270.08,-132 280.08,-128.5 270.08,-125 270.08,-132\"/>\n",
       "</g>\n",
       "<!-- 140686648910768 -->\n",
       "<g id=\"node15\" class=\"node\">\n",
       "<title>140686648910768</title>\n",
       "<polygon fill=\"none\" stroke=\"black\" points=\"1.88,-0.5 1.88,-36.5 244.12,-36.5 244.12,-0.5 1.88,-0.5\"/>\n",
       "<text text-anchor=\"middle\" x=\"18.5\" y=\"-14.2\" font-family=\"Times,serif\" font-size=\"14.00\">x1</text>\n",
       "<polyline fill=\"none\" stroke=\"black\" points=\"35.12,-1.25 35.12,-36.5\"/>\n",
       "<text text-anchor=\"middle\" x=\"85.88\" y=\"-14.2\" font-family=\"Times,serif\" font-size=\"14.00\">data 2.0000</text>\n",
       "<polyline fill=\"none\" stroke=\"black\" points=\"136.62,-1.25 136.62,-36.5\"/>\n",
       "<text text-anchor=\"middle\" x=\"190.38\" y=\"-14.2\" font-family=\"Times,serif\" font-size=\"14.00\">grad &#45;1.5000</text>\n",
       "</g>\n",
       "<!-- 140686648910768&#45;&gt;140686648910048* -->\n",
       "<g id=\"edge10\" class=\"edge\">\n",
       "<title>140686648910768&#45;&gt;140686648910048*</title>\n",
       "<path fill=\"none\" stroke=\"black\" d=\"M213.15,-36.94C224.3,-39.84 235.47,-43.03 246,-46.5 256.05,-49.81 266.7,-54.13 276.29,-58.35\"/>\n",
       "<polygon fill=\"black\" stroke=\"black\" points=\"274.64,-61.44 285.2,-62.38 277.53,-55.07 274.64,-61.44\"/>\n",
       "</g>\n",
       "</g>\n",
       "</svg>\n"
      ],
      "text/plain": [
       "<graphviz.graphs.Digraph at 0x7ff429bbbd90>"
      ]
     },
     "execution_count": 75,
     "metadata": {},
     "output_type": "execute_result"
    }
   ],
   "source": [
    "draw_dot(o)"
   ]
  },
  {
   "cell_type": "code",
   "execution_count": 77,
   "metadata": {},
   "outputs": [
    {
     "data": {
      "image/svg+xml": [
       "<?xml version=\"1.0\" encoding=\"UTF-8\" standalone=\"no\"?>\n",
       "<!DOCTYPE svg PUBLIC \"-//W3C//DTD SVG 1.1//EN\"\n",
       " \"http://www.w3.org/Graphics/SVG/1.1/DTD/svg11.dtd\">\n",
       "<!-- Generated by graphviz version 9.0.0 (20231125.0833)\n",
       " -->\n",
       "<!-- Pages: 1 -->\n",
       "<svg width=\"3390pt\" height=\"239pt\"\n",
       " viewBox=\"0.00 0.00 3390.22 239.00\" xmlns=\"http://www.w3.org/2000/svg\" xmlns:xlink=\"http://www.w3.org/1999/xlink\">\n",
       "<g id=\"graph0\" class=\"graph\" transform=\"scale(1 1) rotate(0) translate(4 235)\">\n",
       "<polygon fill=\"white\" stroke=\"none\" points=\"-4,4 -4,-235 3386.22,-235 3386.22,4 -4,4\"/>\n",
       "<!-- 140686648908368 -->\n",
       "<g id=\"node1\" class=\"node\">\n",
       "<title>140686648908368</title>\n",
       "<polygon fill=\"none\" stroke=\"black\" points=\"3153.47,-54.5 3153.47,-90.5 3382.22,-90.5 3382.22,-54.5 3153.47,-54.5\"/>\n",
       "<text text-anchor=\"middle\" x=\"3165.6\" y=\"-68.2\" font-family=\"Times,serif\" font-size=\"14.00\">o</text>\n",
       "<polyline fill=\"none\" stroke=\"black\" points=\"3177.72,-55.25 3177.72,-90.5\"/>\n",
       "<text text-anchor=\"middle\" x=\"3228.47\" y=\"-68.2\" font-family=\"Times,serif\" font-size=\"14.00\">data 0.7071</text>\n",
       "<polyline fill=\"none\" stroke=\"black\" points=\"3279.22,-55.25 3279.22,-90.5\"/>\n",
       "<text text-anchor=\"middle\" x=\"3330.72\" y=\"-68.2\" font-family=\"Times,serif\" font-size=\"14.00\">grad 1.0000</text>\n",
       "</g>\n",
       "<!-- 140686648908368* -->\n",
       "<g id=\"node2\" class=\"node\">\n",
       "<title>140686648908368*</title>\n",
       "<ellipse fill=\"none\" stroke=\"black\" cx=\"3090.47\" cy=\"-72.5\" rx=\"27\" ry=\"18\"/>\n",
       "<text text-anchor=\"middle\" x=\"3090.47\" y=\"-67.83\" font-family=\"Times,serif\" font-size=\"14.00\">*</text>\n",
       "</g>\n",
       "<!-- 140686648908368*&#45;&gt;140686648908368 -->\n",
       "<g id=\"edge1\" class=\"edge\">\n",
       "<title>140686648908368*&#45;&gt;140686648908368</title>\n",
       "<path fill=\"none\" stroke=\"black\" d=\"M3117.73,-72.5C3124.78,-72.5 3132.9,-72.5 3141.64,-72.5\"/>\n",
       "<polygon fill=\"black\" stroke=\"black\" points=\"3141.48,-76 3151.48,-72.5 3141.48,-69 3141.48,-76\"/>\n",
       "</g>\n",
       "<!-- 140686648914512 -->\n",
       "<g id=\"node3\" class=\"node\">\n",
       "<title>140686648914512</title>\n",
       "<polygon fill=\"none\" stroke=\"black\" points=\"1565.25,-55.5 1565.25,-91.5 1790.25,-91.5 1790.25,-55.5 1565.25,-55.5\"/>\n",
       "<text text-anchor=\"middle\" x=\"1575.5\" y=\"-69.2\" font-family=\"Times,serif\" font-size=\"14.00\"> </text>\n",
       "<polyline fill=\"none\" stroke=\"black\" points=\"1585.75,-56.25 1585.75,-91.5\"/>\n",
       "<text text-anchor=\"middle\" x=\"1636.5\" y=\"-69.2\" font-family=\"Times,serif\" font-size=\"14.00\">data 1.7627</text>\n",
       "<polyline fill=\"none\" stroke=\"black\" points=\"1687.25,-56.25 1687.25,-91.5\"/>\n",
       "<text text-anchor=\"middle\" x=\"1738.75\" y=\"-69.2\" font-family=\"Times,serif\" font-size=\"14.00\">grad 0.2500</text>\n",
       "</g>\n",
       "<!-- 140686648908752exp -->\n",
       "<g id=\"node27\" class=\"node\">\n",
       "<title>140686648908752exp</title>\n",
       "<ellipse fill=\"none\" stroke=\"black\" cx=\"1855.36\" cy=\"-73.5\" rx=\"29.11\" ry=\"18\"/>\n",
       "<text text-anchor=\"middle\" x=\"1855.36\" y=\"-68.83\" font-family=\"Times,serif\" font-size=\"14.00\">exp</text>\n",
       "</g>\n",
       "<!-- 140686648914512&#45;&gt;140686648908752exp -->\n",
       "<g id=\"edge12\" class=\"edge\">\n",
       "<title>140686648914512&#45;&gt;140686648908752exp</title>\n",
       "<path fill=\"none\" stroke=\"black\" d=\"M1790.46,-73.5C1798.89,-73.5 1806.99,-73.5 1814.43,-73.5\"/>\n",
       "<polygon fill=\"black\" stroke=\"black\" points=\"1814.39,-77 1824.39,-73.5 1814.39,-70 1814.39,-77\"/>\n",
       "</g>\n",
       "<!-- 140686648914512* -->\n",
       "<g id=\"node4\" class=\"node\">\n",
       "<title>140686648914512*</title>\n",
       "<ellipse fill=\"none\" stroke=\"black\" cx=\"1502.25\" cy=\"-73.5\" rx=\"27\" ry=\"18\"/>\n",
       "<text text-anchor=\"middle\" x=\"1502.25\" y=\"-68.83\" font-family=\"Times,serif\" font-size=\"14.00\">*</text>\n",
       "</g>\n",
       "<!-- 140686648914512*&#45;&gt;140686648914512 -->\n",
       "<g id=\"edge2\" class=\"edge\">\n",
       "<title>140686648914512*&#45;&gt;140686648914512</title>\n",
       "<path fill=\"none\" stroke=\"black\" d=\"M1529.6,-73.5C1536.67,-73.5 1544.79,-73.5 1553.52,-73.5\"/>\n",
       "<polygon fill=\"black\" stroke=\"black\" points=\"1553.35,-77 1563.35,-73.5 1553.35,-70 1553.35,-77\"/>\n",
       "</g>\n",
       "<!-- 140686648910432 -->\n",
       "<g id=\"node5\" class=\"node\">\n",
       "<title>140686648910432</title>\n",
       "<polygon fill=\"none\" stroke=\"black\" points=\"1209.75,-83.5 1209.75,-119.5 1439.25,-119.5 1439.25,-83.5 1209.75,-83.5\"/>\n",
       "<text text-anchor=\"middle\" x=\"1222.25\" y=\"-97.2\" font-family=\"Times,serif\" font-size=\"14.00\">n</text>\n",
       "<polyline fill=\"none\" stroke=\"black\" points=\"1234.75,-84.25 1234.75,-119.5\"/>\n",
       "<text text-anchor=\"middle\" x=\"1285.5\" y=\"-97.2\" font-family=\"Times,serif\" font-size=\"14.00\">data 0.8814</text>\n",
       "<polyline fill=\"none\" stroke=\"black\" points=\"1336.25,-84.25 1336.25,-119.5\"/>\n",
       "<text text-anchor=\"middle\" x=\"1387.75\" y=\"-97.2\" font-family=\"Times,serif\" font-size=\"14.00\">grad 0.5000</text>\n",
       "</g>\n",
       "<!-- 140686648910432&#45;&gt;140686648914512* -->\n",
       "<g id=\"edge20\" class=\"edge\">\n",
       "<title>140686648910432&#45;&gt;140686648914512*</title>\n",
       "<path fill=\"none\" stroke=\"black\" d=\"M1439.29,-83.37C1448.12,-81.96 1456.57,-80.62 1464.24,-79.4\"/>\n",
       "<polygon fill=\"black\" stroke=\"black\" points=\"1464.75,-82.86 1474.08,-77.83 1463.65,-75.95 1464.75,-82.86\"/>\n",
       "</g>\n",
       "<!-- 140686648910432+ -->\n",
       "<g id=\"node6\" class=\"node\">\n",
       "<title>140686648910432+</title>\n",
       "<ellipse fill=\"none\" stroke=\"black\" cx=\"1146.75\" cy=\"-101.5\" rx=\"27\" ry=\"18\"/>\n",
       "<text text-anchor=\"middle\" x=\"1146.75\" y=\"-96.83\" font-family=\"Times,serif\" font-size=\"14.00\">+</text>\n",
       "</g>\n",
       "<!-- 140686648910432+&#45;&gt;140686648910432 -->\n",
       "<g id=\"edge3\" class=\"edge\">\n",
       "<title>140686648910432+&#45;&gt;140686648910432</title>\n",
       "<path fill=\"none\" stroke=\"black\" d=\"M1174.06,-101.5C1181.13,-101.5 1189.27,-101.5 1198.02,-101.5\"/>\n",
       "<polygon fill=\"black\" stroke=\"black\" points=\"1197.89,-105 1207.89,-101.5 1197.89,-98 1197.89,-105\"/>\n",
       "</g>\n",
       "<!-- 140686648911440 -->\n",
       "<g id=\"node7\" class=\"node\">\n",
       "<title>140686648911440</title>\n",
       "<polygon fill=\"none\" stroke=\"black\" points=\"761.25,-111.5 761.25,-147.5 1083.75,-147.5 1083.75,-111.5 761.25,-111.5\"/>\n",
       "<text text-anchor=\"middle\" x=\"818\" y=\"-125.2\" font-family=\"Times,serif\" font-size=\"14.00\">x1w1 + x2w2</text>\n",
       "<polyline fill=\"none\" stroke=\"black\" points=\"874.75,-112.25 874.75,-147.5\"/>\n",
       "<text text-anchor=\"middle\" x=\"927.75\" y=\"-125.2\" font-family=\"Times,serif\" font-size=\"14.00\">data &#45;6.0000</text>\n",
       "<polyline fill=\"none\" stroke=\"black\" points=\"980.75,-112.25 980.75,-147.5\"/>\n",
       "<text text-anchor=\"middle\" x=\"1032.25\" y=\"-125.2\" font-family=\"Times,serif\" font-size=\"14.00\">grad 0.5000</text>\n",
       "</g>\n",
       "<!-- 140686648911440&#45;&gt;140686648910432+ -->\n",
       "<g id=\"edge17\" class=\"edge\">\n",
       "<title>140686648911440&#45;&gt;140686648910432+</title>\n",
       "<path fill=\"none\" stroke=\"black\" d=\"M1070.2,-111.02C1084.26,-109.25 1097.48,-107.58 1108.81,-106.15\"/>\n",
       "<polygon fill=\"black\" stroke=\"black\" points=\"1108.89,-109.67 1118.38,-104.95 1108.02,-102.73 1108.89,-109.67\"/>\n",
       "</g>\n",
       "<!-- 140686648911440+ -->\n",
       "<g id=\"node8\" class=\"node\">\n",
       "<title>140686648911440+</title>\n",
       "<ellipse fill=\"none\" stroke=\"black\" cx=\"698.25\" cy=\"-129.5\" rx=\"27\" ry=\"18\"/>\n",
       "<text text-anchor=\"middle\" x=\"698.25\" y=\"-124.83\" font-family=\"Times,serif\" font-size=\"14.00\">+</text>\n",
       "</g>\n",
       "<!-- 140686648911440+&#45;&gt;140686648911440 -->\n",
       "<g id=\"edge4\" class=\"edge\">\n",
       "<title>140686648911440+&#45;&gt;140686648911440</title>\n",
       "<path fill=\"none\" stroke=\"black\" d=\"M725.62,-129.5C732.57,-129.5 740.61,-129.5 749.39,-129.5\"/>\n",
       "<polygon fill=\"black\" stroke=\"black\" points=\"749.36,-133 759.36,-129.5 749.36,-126 749.36,-133\"/>\n",
       "</g>\n",
       "<!-- 140686648902320 -->\n",
       "<g id=\"node9\" class=\"node\">\n",
       "<title>140686648902320</title>\n",
       "<polygon fill=\"none\" stroke=\"black\" points=\"1212,-28.5 1212,-64.5 1437,-64.5 1437,-28.5 1212,-28.5\"/>\n",
       "<text text-anchor=\"middle\" x=\"1222.25\" y=\"-42.2\" font-family=\"Times,serif\" font-size=\"14.00\"> </text>\n",
       "<polyline fill=\"none\" stroke=\"black\" points=\"1232.5,-29.25 1232.5,-64.5\"/>\n",
       "<text text-anchor=\"middle\" x=\"1283.25\" y=\"-42.2\" font-family=\"Times,serif\" font-size=\"14.00\">data 2.0000</text>\n",
       "<polyline fill=\"none\" stroke=\"black\" points=\"1334,-29.25 1334,-64.5\"/>\n",
       "<text text-anchor=\"middle\" x=\"1385.5\" y=\"-42.2\" font-family=\"Times,serif\" font-size=\"14.00\">grad 0.2203</text>\n",
       "</g>\n",
       "<!-- 140686648902320&#45;&gt;140686648914512* -->\n",
       "<g id=\"edge24\" class=\"edge\">\n",
       "<title>140686648902320&#45;&gt;140686648914512*</title>\n",
       "<path fill=\"none\" stroke=\"black\" d=\"M1437.3,-63.68C1446.85,-65.14 1456,-66.55 1464.23,-67.81\"/>\n",
       "<polygon fill=\"black\" stroke=\"black\" points=\"1463.68,-71.27 1474.09,-69.33 1464.74,-64.35 1463.68,-71.27\"/>\n",
       "</g>\n",
       "<!-- 140686648907456 -->\n",
       "<g id=\"node10\" class=\"node\">\n",
       "<title>140686648907456</title>\n",
       "<polygon fill=\"none\" stroke=\"black\" points=\"2275.97,-82.5 2275.97,-118.5 2505.47,-118.5 2505.47,-82.5 2275.97,-82.5\"/>\n",
       "<text text-anchor=\"middle\" x=\"2286.22\" y=\"-96.2\" font-family=\"Times,serif\" font-size=\"14.00\"> </text>\n",
       "<polyline fill=\"none\" stroke=\"black\" points=\"2296.47,-83.25 2296.47,-118.5\"/>\n",
       "<text text-anchor=\"middle\" x=\"2347.22\" y=\"-96.2\" font-family=\"Times,serif\" font-size=\"14.00\">data 6.8284</text>\n",
       "<polyline fill=\"none\" stroke=\"black\" points=\"2397.97,-83.25 2397.97,-118.5\"/>\n",
       "<text text-anchor=\"middle\" x=\"2451.72\" y=\"-96.2\" font-family=\"Times,serif\" font-size=\"14.00\">grad &#45;0.1036</text>\n",
       "</g>\n",
       "<!-- 140686648911584**&#45;1 -->\n",
       "<g id=\"node14\" class=\"node\">\n",
       "<title>140686648911584**&#45;1</title>\n",
       "<ellipse fill=\"none\" stroke=\"black\" cx=\"2653.97\" cy=\"-100.5\" rx=\"30.16\" ry=\"18\"/>\n",
       "<text text-anchor=\"middle\" x=\"2653.97\" y=\"-95.83\" font-family=\"Times,serif\" font-size=\"14.00\">**&#45;1</text>\n",
       "</g>\n",
       "<!-- 140686648907456&#45;&gt;140686648911584**&#45;1 -->\n",
       "<g id=\"edge26\" class=\"edge\">\n",
       "<title>140686648907456&#45;&gt;140686648911584**&#45;1</title>\n",
       "<path fill=\"none\" stroke=\"black\" d=\"M2505.93,-100.5C2543.82,-100.5 2583.59,-100.5 2612.2,-100.5\"/>\n",
       "<polygon fill=\"black\" stroke=\"black\" points=\"2611.84,-104 2621.84,-100.5 2611.84,-97 2611.84,-104\"/>\n",
       "</g>\n",
       "<!-- 140686648907456+ -->\n",
       "<g id=\"node11\" class=\"node\">\n",
       "<title>140686648907456+</title>\n",
       "<ellipse fill=\"none\" stroke=\"black\" cx=\"2212.97\" cy=\"-100.5\" rx=\"27\" ry=\"18\"/>\n",
       "<text text-anchor=\"middle\" x=\"2212.97\" y=\"-95.83\" font-family=\"Times,serif\" font-size=\"14.00\">+</text>\n",
       "</g>\n",
       "<!-- 140686648907456+&#45;&gt;140686648907456 -->\n",
       "<g id=\"edge5\" class=\"edge\">\n",
       "<title>140686648907456+&#45;&gt;140686648907456</title>\n",
       "<path fill=\"none\" stroke=\"black\" d=\"M2240.28,-100.5C2247.35,-100.5 2255.49,-100.5 2264.24,-100.5\"/>\n",
       "<polygon fill=\"black\" stroke=\"black\" points=\"2264.11,-104 2274.11,-100.5 2264.11,-97 2264.11,-104\"/>\n",
       "</g>\n",
       "<!-- 140686649033392 -->\n",
       "<g id=\"node12\" class=\"node\">\n",
       "<title>140686649033392</title>\n",
       "<polygon fill=\"none\" stroke=\"black\" points=\"1.88,-84.5 1.88,-120.5 244.12,-120.5 244.12,-84.5 1.88,-84.5\"/>\n",
       "<text text-anchor=\"middle\" x=\"18.5\" y=\"-98.2\" font-family=\"Times,serif\" font-size=\"14.00\">x1</text>\n",
       "<polyline fill=\"none\" stroke=\"black\" points=\"35.12,-85.25 35.12,-120.5\"/>\n",
       "<text text-anchor=\"middle\" x=\"85.88\" y=\"-98.2\" font-family=\"Times,serif\" font-size=\"14.00\">data 2.0000</text>\n",
       "<polyline fill=\"none\" stroke=\"black\" points=\"136.62,-85.25 136.62,-120.5\"/>\n",
       "<text text-anchor=\"middle\" x=\"190.38\" y=\"-98.2\" font-family=\"Times,serif\" font-size=\"14.00\">grad &#45;1.5000</text>\n",
       "</g>\n",
       "<!-- 140686649034496* -->\n",
       "<g id=\"node18\" class=\"node\">\n",
       "<title>140686649034496*</title>\n",
       "<ellipse fill=\"none\" stroke=\"black\" cx=\"309\" cy=\"-102.5\" rx=\"27\" ry=\"18\"/>\n",
       "<text text-anchor=\"middle\" x=\"309\" y=\"-97.83\" font-family=\"Times,serif\" font-size=\"14.00\">*</text>\n",
       "</g>\n",
       "<!-- 140686649033392&#45;&gt;140686649034496* -->\n",
       "<g id=\"edge25\" class=\"edge\">\n",
       "<title>140686649033392&#45;&gt;140686649034496*</title>\n",
       "<path fill=\"none\" stroke=\"black\" d=\"M244.42,-102.5C253.63,-102.5 262.41,-102.5 270.36,-102.5\"/>\n",
       "<polygon fill=\"black\" stroke=\"black\" points=\"270.2,-106 280.2,-102.5 270.2,-99 270.2,-106\"/>\n",
       "</g>\n",
       "<!-- 140686648911584 -->\n",
       "<g id=\"node13\" class=\"node\">\n",
       "<title>140686648911584</title>\n",
       "<polygon fill=\"none\" stroke=\"black\" points=\"2802.47,-80.5 2802.47,-116.5 3027.47,-116.5 3027.47,-80.5 2802.47,-80.5\"/>\n",
       "<text text-anchor=\"middle\" x=\"2812.72\" y=\"-94.2\" font-family=\"Times,serif\" font-size=\"14.00\"> </text>\n",
       "<polyline fill=\"none\" stroke=\"black\" points=\"2822.97,-81.25 2822.97,-116.5\"/>\n",
       "<text text-anchor=\"middle\" x=\"2873.72\" y=\"-94.2\" font-family=\"Times,serif\" font-size=\"14.00\">data 0.1464</text>\n",
       "<polyline fill=\"none\" stroke=\"black\" points=\"2924.47,-81.25 2924.47,-116.5\"/>\n",
       "<text text-anchor=\"middle\" x=\"2975.97\" y=\"-94.2\" font-family=\"Times,serif\" font-size=\"14.00\">grad 4.8284</text>\n",
       "</g>\n",
       "<!-- 140686648911584&#45;&gt;140686648908368* -->\n",
       "<g id=\"edge19\" class=\"edge\">\n",
       "<title>140686648911584&#45;&gt;140686648908368*</title>\n",
       "<path fill=\"none\" stroke=\"black\" d=\"M3027.81,-81.74C3036.51,-80.44 3044.83,-79.19 3052.4,-78.06\"/>\n",
       "<polygon fill=\"black\" stroke=\"black\" points=\"3052.73,-81.54 3062.1,-76.6 3051.7,-74.62 3052.73,-81.54\"/>\n",
       "</g>\n",
       "<!-- 140686648911584**&#45;1&#45;&gt;140686648911584 -->\n",
       "<g id=\"edge6\" class=\"edge\">\n",
       "<title>140686648911584**&#45;1&#45;&gt;140686648911584</title>\n",
       "<path fill=\"none\" stroke=\"black\" d=\"M2684.43,-100.27C2710.73,-100.07 2751.12,-99.76 2790.72,-99.45\"/>\n",
       "<polygon fill=\"black\" stroke=\"black\" points=\"2790.64,-102.95 2800.62,-99.38 2790.59,-95.95 2790.64,-102.95\"/>\n",
       "</g>\n",
       "<!-- 140686649047792 -->\n",
       "<g id=\"node15\" class=\"node\">\n",
       "<title>140686649047792</title>\n",
       "<polygon fill=\"none\" stroke=\"black\" points=\"374.25,-139.5 374.25,-175.5 633,-175.5 633,-139.5 374.25,-139.5\"/>\n",
       "<text text-anchor=\"middle\" x=\"401.38\" y=\"-153.2\" font-family=\"Times,serif\" font-size=\"14.00\">x2w2</text>\n",
       "<polyline fill=\"none\" stroke=\"black\" points=\"428.5,-140.25 428.5,-175.5\"/>\n",
       "<text text-anchor=\"middle\" x=\"479.25\" y=\"-153.2\" font-family=\"Times,serif\" font-size=\"14.00\">data 0.0000</text>\n",
       "<polyline fill=\"none\" stroke=\"black\" points=\"530,-140.25 530,-175.5\"/>\n",
       "<text text-anchor=\"middle\" x=\"581.5\" y=\"-153.2\" font-family=\"Times,serif\" font-size=\"14.00\">grad 0.5000</text>\n",
       "</g>\n",
       "<!-- 140686649047792&#45;&gt;140686648911440+ -->\n",
       "<g id=\"edge23\" class=\"edge\">\n",
       "<title>140686649047792&#45;&gt;140686648911440+</title>\n",
       "<path fill=\"none\" stroke=\"black\" d=\"M631.77,-139.02C642,-137.53 651.71,-136.12 660.37,-134.86\"/>\n",
       "<polygon fill=\"black\" stroke=\"black\" points=\"660.59,-138.37 669.98,-133.46 659.58,-131.44 660.59,-138.37\"/>\n",
       "</g>\n",
       "<!-- 140686649047792* -->\n",
       "<g id=\"node16\" class=\"node\">\n",
       "<title>140686649047792*</title>\n",
       "<ellipse fill=\"none\" stroke=\"black\" cx=\"309\" cy=\"-157.5\" rx=\"27\" ry=\"18\"/>\n",
       "<text text-anchor=\"middle\" x=\"309\" y=\"-152.82\" font-family=\"Times,serif\" font-size=\"14.00\">*</text>\n",
       "</g>\n",
       "<!-- 140686649047792*&#45;&gt;140686649047792 -->\n",
       "<g id=\"edge7\" class=\"edge\">\n",
       "<title>140686649047792*&#45;&gt;140686649047792</title>\n",
       "<path fill=\"none\" stroke=\"black\" d=\"M336.38,-157.5C343.93,-157.5 352.73,-157.5 362.27,-157.5\"/>\n",
       "<polygon fill=\"black\" stroke=\"black\" points=\"362.25,-161 372.25,-157.5 362.25,-154 362.25,-161\"/>\n",
       "</g>\n",
       "<!-- 140686649034496 -->\n",
       "<g id=\"node17\" class=\"node\">\n",
       "<title>140686649034496</title>\n",
       "<polygon fill=\"none\" stroke=\"black\" points=\"372,-84.5 372,-120.5 635.25,-120.5 635.25,-84.5 372,-84.5\"/>\n",
       "<text text-anchor=\"middle\" x=\"399.12\" y=\"-98.2\" font-family=\"Times,serif\" font-size=\"14.00\">x1w1</text>\n",
       "<polyline fill=\"none\" stroke=\"black\" points=\"426.25,-85.25 426.25,-120.5\"/>\n",
       "<text text-anchor=\"middle\" x=\"479.25\" y=\"-98.2\" font-family=\"Times,serif\" font-size=\"14.00\">data &#45;6.0000</text>\n",
       "<polyline fill=\"none\" stroke=\"black\" points=\"532.25,-85.25 532.25,-120.5\"/>\n",
       "<text text-anchor=\"middle\" x=\"583.75\" y=\"-98.2\" font-family=\"Times,serif\" font-size=\"14.00\">grad 0.5000</text>\n",
       "</g>\n",
       "<!-- 140686649034496&#45;&gt;140686648911440+ -->\n",
       "<g id=\"edge21\" class=\"edge\">\n",
       "<title>140686649034496&#45;&gt;140686648911440+</title>\n",
       "<path fill=\"none\" stroke=\"black\" d=\"M635.51,-120.85C644.28,-122.08 652.62,-123.24 660.16,-124.3\"/>\n",
       "<polygon fill=\"black\" stroke=\"black\" points=\"659.42,-127.73 669.81,-125.65 660.39,-120.8 659.42,-127.73\"/>\n",
       "</g>\n",
       "<!-- 140686649034496*&#45;&gt;140686649034496 -->\n",
       "<g id=\"edge8\" class=\"edge\">\n",
       "<title>140686649034496*&#45;&gt;140686649034496</title>\n",
       "<path fill=\"none\" stroke=\"black\" d=\"M336.38,-102.5C343.41,-102.5 351.51,-102.5 360.28,-102.5\"/>\n",
       "<polygon fill=\"black\" stroke=\"black\" points=\"360.21,-106 370.21,-102.5 360.21,-99 360.21,-106\"/>\n",
       "</g>\n",
       "<!-- 140686648913120 -->\n",
       "<g id=\"node19\" class=\"node\">\n",
       "<title>140686648913120</title>\n",
       "<polygon fill=\"none\" stroke=\"black\" points=\"2541.47,-27.5 2541.47,-63.5 2766.47,-63.5 2766.47,-27.5 2541.47,-27.5\"/>\n",
       "<text text-anchor=\"middle\" x=\"2551.72\" y=\"-41.2\" font-family=\"Times,serif\" font-size=\"14.00\"> </text>\n",
       "<polyline fill=\"none\" stroke=\"black\" points=\"2561.97,-28.25 2561.97,-63.5\"/>\n",
       "<text text-anchor=\"middle\" x=\"2612.72\" y=\"-41.2\" font-family=\"Times,serif\" font-size=\"14.00\">data 4.8284</text>\n",
       "<polyline fill=\"none\" stroke=\"black\" points=\"2663.47,-28.25 2663.47,-63.5\"/>\n",
       "<text text-anchor=\"middle\" x=\"2714.97\" y=\"-41.2\" font-family=\"Times,serif\" font-size=\"14.00\">grad 0.1464</text>\n",
       "</g>\n",
       "<!-- 140686648913120&#45;&gt;140686648908368* -->\n",
       "<g id=\"edge11\" class=\"edge\">\n",
       "<title>140686648913120&#45;&gt;140686648908368*</title>\n",
       "<path fill=\"none\" stroke=\"black\" d=\"M2766.87,-52.45C2860.88,-58.3 2989.63,-66.3 3052.24,-70.19\"/>\n",
       "<polygon fill=\"black\" stroke=\"black\" points=\"3051.79,-73.67 3061.99,-70.79 3052.22,-66.68 3051.79,-73.67\"/>\n",
       "</g>\n",
       "<!-- 140686648913120+ -->\n",
       "<g id=\"node20\" class=\"node\">\n",
       "<title>140686648913120+</title>\n",
       "<ellipse fill=\"none\" stroke=\"black\" cx=\"2212.97\" cy=\"-45.5\" rx=\"27\" ry=\"18\"/>\n",
       "<text text-anchor=\"middle\" x=\"2212.97\" y=\"-40.83\" font-family=\"Times,serif\" font-size=\"14.00\">+</text>\n",
       "</g>\n",
       "<!-- 140686648913120+&#45;&gt;140686648913120 -->\n",
       "<g id=\"edge9\" class=\"edge\">\n",
       "<title>140686648913120+&#45;&gt;140686648913120</title>\n",
       "<path fill=\"none\" stroke=\"black\" d=\"M2240.45,-45.5C2296.4,-45.5 2429.78,-45.5 2529.83,-45.5\"/>\n",
       "<polygon fill=\"black\" stroke=\"black\" points=\"2529.73,-49 2539.73,-45.5 2529.73,-42 2529.73,-49\"/>\n",
       "</g>\n",
       "<!-- 140686648915664 -->\n",
       "<g id=\"node21\" class=\"node\">\n",
       "<title>140686648915664</title>\n",
       "<polygon fill=\"none\" stroke=\"black\" points=\"1920.47,-0.5 1920.47,-36.5 2149.97,-36.5 2149.97,-0.5 1920.47,-0.5\"/>\n",
       "<text text-anchor=\"middle\" x=\"1930.72\" y=\"-14.2\" font-family=\"Times,serif\" font-size=\"14.00\"> </text>\n",
       "<polyline fill=\"none\" stroke=\"black\" points=\"1940.97,-1.25 1940.97,-36.5\"/>\n",
       "<text text-anchor=\"middle\" x=\"1993.97\" y=\"-14.2\" font-family=\"Times,serif\" font-size=\"14.00\">data &#45;1.0000</text>\n",
       "<polyline fill=\"none\" stroke=\"black\" points=\"2046.97,-1.25 2046.97,-36.5\"/>\n",
       "<text text-anchor=\"middle\" x=\"2098.47\" y=\"-14.2\" font-family=\"Times,serif\" font-size=\"14.00\">grad 0.1464</text>\n",
       "</g>\n",
       "<!-- 140686648915664&#45;&gt;140686648913120+ -->\n",
       "<g id=\"edge28\" class=\"edge\">\n",
       "<title>140686648915664&#45;&gt;140686648913120+</title>\n",
       "<path fill=\"none\" stroke=\"black\" d=\"M2150.01,-35.98C2158.84,-37.34 2167.3,-38.64 2174.96,-39.81\"/>\n",
       "<polygon fill=\"black\" stroke=\"black\" points=\"2174.39,-43.27 2184.8,-41.33 2175.45,-36.35 2174.39,-43.27\"/>\n",
       "</g>\n",
       "<!-- 140686648908080 -->\n",
       "<g id=\"node22\" class=\"node\">\n",
       "<title>140686648908080</title>\n",
       "<polygon fill=\"none\" stroke=\"black\" points=\"1920.47,-110.5 1920.47,-146.5 2149.97,-146.5 2149.97,-110.5 1920.47,-110.5\"/>\n",
       "<text text-anchor=\"middle\" x=\"1930.72\" y=\"-124.2\" font-family=\"Times,serif\" font-size=\"14.00\"> </text>\n",
       "<polyline fill=\"none\" stroke=\"black\" points=\"1940.97,-111.25 1940.97,-146.5\"/>\n",
       "<text text-anchor=\"middle\" x=\"1991.72\" y=\"-124.2\" font-family=\"Times,serif\" font-size=\"14.00\">data 1.0000</text>\n",
       "<polyline fill=\"none\" stroke=\"black\" points=\"2042.47,-111.25 2042.47,-146.5\"/>\n",
       "<text text-anchor=\"middle\" x=\"2096.22\" y=\"-124.2\" font-family=\"Times,serif\" font-size=\"14.00\">grad &#45;0.1036</text>\n",
       "</g>\n",
       "<!-- 140686648908080&#45;&gt;140686648907456+ -->\n",
       "<g id=\"edge14\" class=\"edge\">\n",
       "<title>140686648908080&#45;&gt;140686648907456+</title>\n",
       "<path fill=\"none\" stroke=\"black\" d=\"M2150.01,-110.37C2158.84,-108.96 2167.3,-107.62 2174.96,-106.4\"/>\n",
       "<polygon fill=\"black\" stroke=\"black\" points=\"2175.48,-109.86 2184.8,-104.83 2174.38,-102.95 2175.48,-109.86\"/>\n",
       "</g>\n",
       "<!-- 140686649033680 -->\n",
       "<g id=\"node23\" class=\"node\">\n",
       "<title>140686649033680</title>\n",
       "<polygon fill=\"none\" stroke=\"black\" points=\"807.75,-56.5 807.75,-92.5 1037.25,-92.5 1037.25,-56.5 807.75,-56.5\"/>\n",
       "<text text-anchor=\"middle\" x=\"820.25\" y=\"-70.2\" font-family=\"Times,serif\" font-size=\"14.00\">b</text>\n",
       "<polyline fill=\"none\" stroke=\"black\" points=\"832.75,-57.25 832.75,-92.5\"/>\n",
       "<text text-anchor=\"middle\" x=\"883.5\" y=\"-70.2\" font-family=\"Times,serif\" font-size=\"14.00\">data 6.8814</text>\n",
       "<polyline fill=\"none\" stroke=\"black\" points=\"934.25,-57.25 934.25,-92.5\"/>\n",
       "<text text-anchor=\"middle\" x=\"985.75\" y=\"-70.2\" font-family=\"Times,serif\" font-size=\"14.00\">grad 0.5000</text>\n",
       "</g>\n",
       "<!-- 140686649033680&#45;&gt;140686648910432+ -->\n",
       "<g id=\"edge27\" class=\"edge\">\n",
       "<title>140686649033680&#45;&gt;140686648910432+</title>\n",
       "<path fill=\"none\" stroke=\"black\" d=\"M1037.55,-88.36C1063.27,-91.48 1088.78,-94.58 1108.56,-96.98\"/>\n",
       "<polygon fill=\"black\" stroke=\"black\" points=\"1107.95,-100.43 1118.3,-98.16 1108.79,-93.48 1107.95,-100.43\"/>\n",
       "</g>\n",
       "<!-- 140686649033008 -->\n",
       "<g id=\"node24\" class=\"node\">\n",
       "<title>140686649033008</title>\n",
       "<polygon fill=\"none\" stroke=\"black\" points=\"2.25,-194.5 2.25,-230.5 243.75,-230.5 243.75,-194.5 2.25,-194.5\"/>\n",
       "<text text-anchor=\"middle\" x=\"20.75\" y=\"-208.2\" font-family=\"Times,serif\" font-size=\"14.00\">w2</text>\n",
       "<polyline fill=\"none\" stroke=\"black\" points=\"39.25,-195.25 39.25,-230.5\"/>\n",
       "<text text-anchor=\"middle\" x=\"90\" y=\"-208.2\" font-family=\"Times,serif\" font-size=\"14.00\">data 1.0000</text>\n",
       "<polyline fill=\"none\" stroke=\"black\" points=\"140.75,-195.25 140.75,-230.5\"/>\n",
       "<text text-anchor=\"middle\" x=\"192.25\" y=\"-208.2\" font-family=\"Times,serif\" font-size=\"14.00\">grad 0.0000</text>\n",
       "</g>\n",
       "<!-- 140686649033008&#45;&gt;140686649047792* -->\n",
       "<g id=\"edge13\" class=\"edge\">\n",
       "<title>140686649033008&#45;&gt;140686649047792*</title>\n",
       "<path fill=\"none\" stroke=\"black\" d=\"M216.81,-194.07C226.74,-191.47 236.63,-188.61 246,-185.5 256.18,-182.12 266.94,-177.61 276.59,-173.2\"/>\n",
       "<polygon fill=\"black\" stroke=\"black\" points=\"277.99,-176.41 285.55,-168.98 275.01,-170.08 277.99,-176.41\"/>\n",
       "</g>\n",
       "<!-- 140686649036752 -->\n",
       "<g id=\"node25\" class=\"node\">\n",
       "<title>140686649036752</title>\n",
       "<polygon fill=\"none\" stroke=\"black\" points=\"4.12,-139.5 4.12,-175.5 241.88,-175.5 241.88,-139.5 4.12,-139.5\"/>\n",
       "<text text-anchor=\"middle\" x=\"20.75\" y=\"-153.2\" font-family=\"Times,serif\" font-size=\"14.00\">x2</text>\n",
       "<polyline fill=\"none\" stroke=\"black\" points=\"37.38,-140.25 37.38,-175.5\"/>\n",
       "<text text-anchor=\"middle\" x=\"88.12\" y=\"-153.2\" font-family=\"Times,serif\" font-size=\"14.00\">data 0.0000</text>\n",
       "<polyline fill=\"none\" stroke=\"black\" points=\"138.88,-140.25 138.88,-175.5\"/>\n",
       "<text text-anchor=\"middle\" x=\"190.38\" y=\"-153.2\" font-family=\"Times,serif\" font-size=\"14.00\">grad 0.5000</text>\n",
       "</g>\n",
       "<!-- 140686649036752&#45;&gt;140686649047792* -->\n",
       "<g id=\"edge18\" class=\"edge\">\n",
       "<title>140686649036752&#45;&gt;140686649047792*</title>\n",
       "<path fill=\"none\" stroke=\"black\" d=\"M242.35,-157.5C252.31,-157.5 261.82,-157.5 270.35,-157.5\"/>\n",
       "<polygon fill=\"black\" stroke=\"black\" points=\"270.2,-161 280.2,-157.5 270.2,-154 270.2,-161\"/>\n",
       "</g>\n",
       "<!-- 140686648908752 -->\n",
       "<g id=\"node26\" class=\"node\">\n",
       "<title>140686648908752</title>\n",
       "<polygon fill=\"none\" stroke=\"black\" points=\"1922.72,-55.5 1922.72,-91.5 2147.72,-91.5 2147.72,-55.5 1922.72,-55.5\"/>\n",
       "<text text-anchor=\"middle\" x=\"1932.97\" y=\"-69.2\" font-family=\"Times,serif\" font-size=\"14.00\"> </text>\n",
       "<polyline fill=\"none\" stroke=\"black\" points=\"1943.22,-56.25 1943.22,-91.5\"/>\n",
       "<text text-anchor=\"middle\" x=\"1993.97\" y=\"-69.2\" font-family=\"Times,serif\" font-size=\"14.00\">data 5.8284</text>\n",
       "<polyline fill=\"none\" stroke=\"black\" points=\"2044.72,-56.25 2044.72,-91.5\"/>\n",
       "<text text-anchor=\"middle\" x=\"2096.22\" y=\"-69.2\" font-family=\"Times,serif\" font-size=\"14.00\">grad 0.0429</text>\n",
       "</g>\n",
       "<!-- 140686648908752&#45;&gt;140686648907456+ -->\n",
       "<g id=\"edge16\" class=\"edge\">\n",
       "<title>140686648908752&#45;&gt;140686648907456+</title>\n",
       "<path fill=\"none\" stroke=\"black\" d=\"M2148.03,-90.68C2157.58,-92.14 2166.72,-93.55 2174.96,-94.81\"/>\n",
       "<polygon fill=\"black\" stroke=\"black\" points=\"2174.4,-98.27 2184.82,-96.33 2175.46,-91.35 2174.4,-98.27\"/>\n",
       "</g>\n",
       "<!-- 140686648908752&#45;&gt;140686648913120+ -->\n",
       "<g id=\"edge15\" class=\"edge\">\n",
       "<title>140686648908752&#45;&gt;140686648913120+</title>\n",
       "<path fill=\"none\" stroke=\"black\" d=\"M2148.03,-55.69C2157.58,-54.17 2166.72,-52.71 2174.96,-51.4\"/>\n",
       "<polygon fill=\"black\" stroke=\"black\" points=\"2175.49,-54.86 2184.82,-49.83 2174.39,-47.94 2175.49,-54.86\"/>\n",
       "</g>\n",
       "<!-- 140686648908752exp&#45;&gt;140686648908752 -->\n",
       "<g id=\"edge10\" class=\"edge\">\n",
       "<title>140686648908752exp&#45;&gt;140686648908752</title>\n",
       "<path fill=\"none\" stroke=\"black\" d=\"M1884.94,-73.5C1892.63,-73.5 1901.47,-73.5 1910.91,-73.5\"/>\n",
       "<polygon fill=\"black\" stroke=\"black\" points=\"1910.74,-77 1920.74,-73.5 1910.74,-70 1910.74,-77\"/>\n",
       "</g>\n",
       "<!-- 140686649039344 -->\n",
       "<g id=\"node28\" class=\"node\">\n",
       "<title>140686649039344</title>\n",
       "<polygon fill=\"none\" stroke=\"black\" points=\"0,-29.5 0,-65.5 246,-65.5 246,-29.5 0,-29.5\"/>\n",
       "<text text-anchor=\"middle\" x=\"18.5\" y=\"-43.2\" font-family=\"Times,serif\" font-size=\"14.00\">w1</text>\n",
       "<polyline fill=\"none\" stroke=\"black\" points=\"37,-30.25 37,-65.5\"/>\n",
       "<text text-anchor=\"middle\" x=\"90\" y=\"-43.2\" font-family=\"Times,serif\" font-size=\"14.00\">data &#45;3.0000</text>\n",
       "<polyline fill=\"none\" stroke=\"black\" points=\"143,-30.25 143,-65.5\"/>\n",
       "<text text-anchor=\"middle\" x=\"194.5\" y=\"-43.2\" font-family=\"Times,serif\" font-size=\"14.00\">grad 1.0000</text>\n",
       "</g>\n",
       "<!-- 140686649039344&#45;&gt;140686649034496* -->\n",
       "<g id=\"edge22\" class=\"edge\">\n",
       "<title>140686649039344&#45;&gt;140686649034496*</title>\n",
       "<path fill=\"none\" stroke=\"black\" d=\"M216.81,-65.93C226.74,-68.53 236.63,-71.39 246,-74.5 256.18,-77.88 266.94,-82.39 276.59,-86.8\"/>\n",
       "<polygon fill=\"black\" stroke=\"black\" points=\"275.01,-89.92 285.55,-91.02 277.99,-83.59 275.01,-89.92\"/>\n",
       "</g>\n",
       "</g>\n",
       "</svg>\n"
      ],
      "text/plain": [
       "<graphviz.graphs.Digraph at 0x7ff429bbbe20>"
      ]
     },
     "execution_count": 77,
     "metadata": {},
     "output_type": "execute_result"
    }
   ],
   "source": [
    "# backpropagation -- tanh broken down into (e^2x - 1)/(e^2x + 1)\n",
    "\n",
    "# inputs x1,x2\n",
    "x1 = Value(2.0, label='x1')\n",
    "x2 = Value(0.0, label='x2')\n",
    "\n",
    "# weights w1,w2\n",
    "w1 = Value(-3.0, label='w1')\n",
    "w2 = Value(1.0, label='w2')\n",
    "\n",
    "# bias of the neuron\n",
    "b = Value(6.    , label='b')\n",
    "\n",
    "# x1w1 + x2w2 + b\n",
    "x1w1 = x1*w1; x1w1.label = 'x1w1'\n",
    "x2w2 = x2*w2; x2w2.label = 'x2w2'\n",
    "\n",
    "x1w1x2w2 = x1w1 + x2w2; x1w1x2w2.label = 'x1w1 + x2w2'\n",
    "n = x1w1x2w2 + b; n.label = 'n'\n",
    "#---\n",
    "e = (2*n).exp()\n",
    "o = (e - 1) / (e + 1)\n",
    "\n",
    "o.label = 'o'\n",
    "o.backward()\n",
    "draw_dot(o)"
   ]
  },
  {
   "cell_type": "code",
   "execution_count": 78,
   "metadata": {},
   "outputs": [],
   "source": [
    "import torch"
   ]
  },
  {
   "cell_type": "code",
   "execution_count": 94,
   "metadata": {},
   "outputs": [
    {
     "name": "stdout",
     "output_type": "stream",
     "text": [
      "0.7071066904050358\n",
      "----\n",
      "x1 -1.5000003851533106\n",
      "w1 1.0000002567688737\n",
      "x2 0.5000001283844369\n",
      "w2 0.0\n"
     ]
    }
   ],
   "source": [
    "x1 = torch.Tensor([2.0]).double() ; x1.requires_grad = True\n",
    "x2 = torch.Tensor([0.0]).double() ; x2.requires_grad = True\n",
    "w1 = torch.Tensor([-3.0]).double() ; w1.requires_grad = True\n",
    "w2 = torch.Tensor([1.0]).double() ; w2.requires_grad = True\n",
    "b = torch.Tensor([6.8813735870195432]).double() ; b.requires_grad = True\n",
    "\n",
    "n = x1*w1 + x2*w2 + b\n",
    "o = torch.tanh(n)\n",
    "\n",
    "print(o.data.item())\n",
    "o.backward()\n",
    "\n",
    "print('----')\n",
    "print('x1', x1.grad.item())\n",
    "print('w1', w1.grad.item())\n",
    "print('x2', x2.grad.item())\n",
    "print('w2', w2.grad.item())\n",
    "\n"
   ]
  },
  {
   "cell_type": "code",
   "execution_count": 99,
   "metadata": {},
   "outputs": [
    {
     "data": {
      "text/plain": [
       "0.7071066904050358"
      ]
     },
     "execution_count": 99,
     "metadata": {},
     "output_type": "execute_result"
    }
   ],
   "source": [
    "o.data.item()"
   ]
  },
  {
   "cell_type": "code",
   "execution_count": 102,
   "metadata": {},
   "outputs": [
    {
     "data": {
      "text/plain": [
       "tensor([0.5000], dtype=torch.float64)"
      ]
     },
     "execution_count": 102,
     "metadata": {},
     "output_type": "execute_result"
    }
   ],
   "source": [
    "x2.grad"
   ]
  },
  {
   "cell_type": "code",
   "execution_count": 81,
   "metadata": {},
   "outputs": [
    {
     "data": {
      "text/plain": [
       "tensor([2.], dtype=torch.float64)"
      ]
     },
     "execution_count": 81,
     "metadata": {},
     "output_type": "execute_result"
    }
   ],
   "source": [
    "x1.double()"
   ]
  },
  {
   "cell_type": "code",
   "execution_count": 87,
   "metadata": {},
   "outputs": [
    {
     "data": {
      "text/plain": [
       "torch.float32"
      ]
     },
     "execution_count": 87,
     "metadata": {},
     "output_type": "execute_result"
    }
   ],
   "source": [
    "torch.Tensor([[1., 2., 3.], [4,5,6]]).dtype"
   ]
  },
  {
   "cell_type": "markdown",
   "metadata": {},
   "source": [
    "### Neural Network similar to PyTorch"
   ]
  },
  {
   "cell_type": "code",
   "execution_count": 105,
   "metadata": {},
   "outputs": [],
   "source": [
    "import random"
   ]
  },
  {
   "cell_type": "code",
   "execution_count": 275,
   "metadata": {},
   "outputs": [],
   "source": [
    "class Neuron:\n",
    "\n",
    "    # create and init a neuron\n",
    "    def __init__(self, nin):\n",
    "        self.w = [Value(random.uniform(-1,1)) for _ in range(nin)]\n",
    "        self.b = Value(random.uniform(-1,1))\n",
    "\n",
    "    # calculate output given input x\n",
    "    def __call__(self, x):\n",
    "        # w * x + b\n",
    "        act = sum((wi * xi for wi, xi in zip(self.w, x)), self.b)\n",
    "        out = act.tanh()\n",
    "        return out\n",
    "    \n",
    "    def parameters(self):\n",
    "        return self.w + [self.b]\n",
    "    \n",
    "class Layer:\n",
    "    \n",
    "    # create/initialize required number of input and next layer neurons\n",
    "    def __init__(self, nin, nout):\n",
    "        self.neurons = [Neuron(nin) for _ in range(nout)]\n",
    "\n",
    "    def __call__(self, x):\n",
    "        outs = [n(x) for n in self.neurons]\n",
    "        return outs[0] if len(outs) == 1 else outs\n",
    "    \n",
    "    def parameters(self):\n",
    "        return [p for neuron in self.neurons for p in neuron.parameters()]\n",
    "        # params = []\n",
    "        # for neuron in self.neurons:\n",
    "        #     ps = neuron.parameters()\n",
    "        #     params.extend(ps)\n",
    "        # return params\n",
    "    \n",
    "class MLP:\n",
    "    \"Defines multilayer neural network\"\n",
    "\n",
    "    def __init__(self, nin, nouts): # ex: 3, [3,4,5]\n",
    "        sz = [nin] + nouts\n",
    "        self.layers = [Layer(sz[i], sz[i+1]) for i in range(len(nouts))]\n",
    "\n",
    "    def __call__(self, x):\n",
    "        for layer in self.layers:\n",
    "            x = layer(x) # output of ith layer is input of (i+1)th layer\n",
    "        return x\n",
    "    \n",
    "    def parameters(self):\n",
    "        return [p for layer in self.layers for p in layer.parameters()]\n"
   ]
  },
  {
   "cell_type": "code",
   "execution_count": 276,
   "metadata": {},
   "outputs": [
    {
     "data": {
      "text/plain": [
       "Value(data=-0.9990146134897147, grad=0.0)"
      ]
     },
     "execution_count": 276,
     "metadata": {},
     "output_type": "execute_result"
    }
   ],
   "source": [
    "x = [2.0, 3.0]\n",
    "n = Neuron(2)\n",
    "n(x)"
   ]
  },
  {
   "cell_type": "code",
   "execution_count": 277,
   "metadata": {},
   "outputs": [],
   "source": [
    "lay = Layer(3,6)"
   ]
  },
  {
   "cell_type": "code",
   "execution_count": 278,
   "metadata": {},
   "outputs": [
    {
     "data": {
      "text/plain": [
       "[Value(data=-0.9989212337583633, grad=0.0),\n",
       " Value(data=-0.9999999441622347, grad=0.0),\n",
       " Value(data=0.9999776278094787, grad=0.0),\n",
       " Value(data=-0.9999917463476099, grad=0.0),\n",
       " Value(data=-0.999883427050781, grad=0.0),\n",
       " Value(data=0.9992467983321135, grad=0.0)]"
      ]
     },
     "execution_count": 278,
     "metadata": {},
     "output_type": "execute_result"
    }
   ],
   "source": [
    "lay([2.0, 3.1, 4.9])"
   ]
  },
  {
   "cell_type": "code",
   "execution_count": 369,
   "metadata": {},
   "outputs": [
    {
     "data": {
      "text/plain": [
       "Value(data=0.04305851937597354, grad=0.0)"
      ]
     },
     "execution_count": 369,
     "metadata": {},
     "output_type": "execute_result"
    }
   ],
   "source": [
    "mlp = MLP(3, [4, 4, 1])\n",
    "mlp([2.0, 3.1, 4.9])"
   ]
  },
  {
   "cell_type": "code",
   "execution_count": 370,
   "metadata": {},
   "outputs": [],
   "source": [
    "xs = [\n",
    "    [2.0, 3.0, -1.0],\n",
    "    [3.0, -1.0, 0.5],\n",
    "    [0.5, 1.0, 1.0],\n",
    "    [1.0, 1.0, -1.0]\n",
    "]\n",
    "\n",
    "ys = [1.0, -1.0, -1.0, 1.0]"
   ]
  },
  {
   "cell_type": "code",
   "execution_count": 378,
   "metadata": {},
   "outputs": [
    {
     "name": "stdout",
     "output_type": "stream",
     "text": [
      "0 0.0003026052097972934\n",
      "1 0.0003021088393539005\n",
      "2 0.0003016140498800962\n",
      "3 0.0003011208339192118\n",
      "4 0.0003006291840611401\n",
      "5 0.000300139092941958\n",
      "6 0.0002996505532436002\n",
      "7 0.0002991635576934613\n",
      "8 0.0002986780990640791\n",
      "9 0.0002981941701727743\n",
      "10 0.0002977117638813065\n",
      "11 0.00029723087309553245\n",
      "12 0.00029675149076504215\n",
      "13 0.0002962736098828834\n",
      "14 0.0002957972234851528\n",
      "15 0.0002953223246507429\n",
      "16 0.0002948489065009423\n",
      "17 0.00029437696219916784\n",
      "18 0.0002939064849506125\n",
      "19 0.00029343746800195725\n",
      "20 0.00029296990464100666\n",
      "21 0.0002925037881964265\n",
      "22 0.0002920391120374147\n",
      "23 0.0002915758695733967\n",
      "24 0.0002911140542536994\n",
      "25 0.00029065365956729904\n",
      "26 0.0002901946790424743\n",
      "27 0.0002897371062465414\n",
      "28 0.0002892809347855495\n",
      "29 0.0002888261583039992\n",
      "30 0.000288372770484529\n",
      "31 0.00028792076504767007\n",
      "32 0.00028747013575152147\n",
      "33 0.00028702087639151575\n",
      "34 0.00028657298080009936\n",
      "35 0.0002861264428464817\n",
      "36 0.0002856812564363494\n",
      "37 0.0002852374155116091\n",
      "38 0.0002847949140501203\n",
      "39 0.00028435374606541034\n",
      "40 0.00028391390560642894\n",
      "41 0.0002834753867572893\n",
      "42 0.0002830381836369891\n",
      "43 0.00028260229039917597\n",
      "44 0.0002821677012318926\n",
      "45 0.0002817344103573037\n",
      "46 0.00028130241203147836\n",
      "47 0.00028087170054410653\n",
      "48 0.0002804422702182863\n",
      "49 0.0002800141154102641\n",
      "50 0.00027958723050919076\n",
      "51 0.00027916160993689726\n",
      "52 0.0002787372481476519\n",
      "53 0.0002783141396279133\n",
      "54 0.0002778922788961145\n",
      "55 0.00027747166050241844\n",
      "56 0.00027705227902850935\n",
      "57 0.0002766341290873458\n",
      "58 0.0002762172053229392\n",
      "59 0.0002758015024101429\n",
      "60 0.00027538701505442536\n",
      "61 0.00027497373799163777\n",
      "62 0.0002745616659878149\n",
      "63 0.0002741507938389579\n",
      "64 0.00027374111637081824\n",
      "65 0.000273332628438676\n",
      "66 0.00027292532492713807\n",
      "67 0.00027251920074993895\n",
      "68 0.00027211425084970977\n",
      "69 0.00027171047019782375\n",
      "70 0.000271307853794123\n",
      "71 0.00027090639666677236\n",
      "72 0.0002705060938720347\n",
      "73 0.0002701069404940982\n",
      "74 0.0002697089316448338\n",
      "75 0.00026931206246365335\n",
      "76 0.0002689163281172839\n",
      "77 0.00026852172379958486\n",
      "78 0.00026812824473136247\n",
      "79 0.0002677358861601802\n",
      "80 0.00026734464336015945\n",
      "81 0.00026695451163182156\n",
      "82 0.0002665654863018849\n",
      "83 0.00026617756272307797\n",
      "84 0.00026579073627398407\n",
      "85 0.0002654050023588367\n",
      "86 0.00026502035640734605\n",
      "87 0.0002646367938745535\n",
      "88 0.00026425431024060426\n",
      "89 0.00026387290101062924\n",
      "90 0.0002634925617145306\n",
      "91 0.00026311328790683817\n",
      "92 0.00026273507516652464\n",
      "93 0.00026235791909685435\n",
      "94 0.0002619818153251993\n",
      "95 0.0002616067595028924\n",
      "96 0.00026123274730504794\n",
      "97 0.00026085977443040414\n",
      "98 0.0002604878366011771\n",
      "99 0.0002601169295628861\n",
      "100 0.000259747049084191\n",
      "101 0.0002593781909567488\n",
      "102 0.00025901035099505957\n",
      "103 0.00025864352503630336\n",
      "104 0.0002582777089401794\n",
      "105 0.00025791289858877935\n",
      "106 0.00025754908988640895\n",
      "107 0.00025718627875946594\n",
      "108 0.0002568244611562664\n",
      "109 0.00025646363304692186\n",
      "110 0.0002561037904231633\n",
      "111 0.000255744929298233\n",
      "112 0.0002553870457067126\n",
      "113 0.0002550301357043931\n",
      "114 0.00025467419536813766\n",
      "115 0.00025431922079572326\n",
      "116 0.00025396520810572415\n",
      "117 0.0002536121534373594\n",
      "118 0.0002532600529503667\n",
      "119 0.0002529089028248534\n",
      "120 0.0002525586992611778\n",
      "121 0.0002522094384797975\n",
      "122 0.0002518611167211565\n",
      "123 0.00025151373024554137\n",
      "124 0.00025116727533294487\n",
      "125 0.0002508217482829618\n",
      "126 0.00025047714541463696\n",
      "127 0.0002501334630663353\n",
      "128 0.00024979069759564066\n",
      "129 0.000249448845379217\n",
      "130 0.000249107902812666\n",
      "131 0.0002487678663104279\n",
      "132 0.00024842873230565825\n",
      "133 0.0002480904972501\n",
      "134 0.0002477531576139452\n",
      "135 0.0002474167098857576\n",
      "136 0.0002470811505723108\n",
      "137 0.00024674647619849394\n",
      "138 0.00024641268330719777\n",
      "139 0.00024607976845917706\n",
      "140 0.00024574772823295754\n",
      "141 0.000245416559224714\n",
      "142 0.0002450862580481609\n",
      "143 0.00024475682133442273\n",
      "144 0.00024442824573194275\n",
      "145 0.00024410052790637521\n",
      "146 0.0002437736645404476\n",
      "147 0.00024344765233387923\n",
      "148 0.0002431224880032652\n",
      "149 0.0002427981682819625\n",
      "150 0.0002424746899199809\n",
      "151 0.0002421520496839022\n",
      "152 0.00024183024435674735\n",
      "153 0.00024150927073787913\n",
      "154 0.0002411891256429078\n",
      "155 0.00024086980590359082\n",
      "156 0.0002405513083676989\n",
      "157 0.00024023362989895883\n",
      "158 0.0002399167673769421\n",
      "159 0.00023960071769693408\n",
      "160 0.0002392854777698686\n",
      "161 0.00023897104452222227\n",
      "162 0.00023865741489591355\n",
      "163 0.00023834458584820288\n",
      "164 0.00023803255435160886\n",
      "165 0.00023772131739379724\n",
      "166 0.00023741087197750725\n",
      "167 0.00023710121512042205\n",
      "168 0.00023679234385512704\n",
      "169 0.00023648425522896862\n",
      "170 0.00023617694630399789\n",
      "171 0.00023587041415685644\n",
      "172 0.0002355646558787039\n",
      "173 0.00023525966857510308\n",
      "174 0.000234955449365967\n",
      "175 0.00023465199538543909\n",
      "176 0.00023434930378182293\n",
      "177 0.000234047371717485\n",
      "178 0.000233746196368779\n",
      "179 0.00023344577492595575\n",
      "180 0.0002331461045930653\n",
      "181 0.00023284718258789636\n",
      "182 0.0002325490061418728\n",
      "183 0.00023225157249998502\n",
      "184 0.00023195487892069033\n",
      "185 0.0002316589226758485\n",
      "186 0.00023136370105062594\n",
      "187 0.00023106921134343237\n",
      "188 0.00023077545086581383\n",
      "189 0.0002304824169424054\n",
      "190 0.00023019010691081968\n",
      "191 0.00022989851812160343\n",
      "192 0.000229607647938117\n",
      "193 0.0002293174937364928\n",
      "194 0.00022902805290555541\n",
      "195 0.0002287393228467167\n",
      "196 0.00022845130097393123\n",
      "197 0.00022816398471360458\n",
      "198 0.00022787737150452482\n",
      "199 0.0002275914587977953\n"
     ]
    }
   ],
   "source": [
    "for k in range(200):\n",
    "    # forward pass\n",
    "    ypred = [mlp(x) for x in xs]\n",
    "    loss = sum((yout - ygt)**2 for ygt, yout in zip(ys, ypred))\n",
    "\n",
    "    # backward pass\n",
    "    for p in mlp.parameters():\n",
    "        p.grad = 0.0\n",
    "    loss.backward()\n",
    "\n",
    "    # update\n",
    "    for p in mlp.parameters():\n",
    "        p.data += -0.1 * p.grad # minus to minize the loss\n",
    "\n",
    "    print(k, loss.data)"
   ]
  },
  {
   "cell_type": "code",
   "execution_count": 379,
   "metadata": {},
   "outputs": [
    {
     "data": {
      "text/plain": [
       "[Value(data=0.9930567623750731, grad=-0.013886475249853758),\n",
       " Value(data=-0.9967041360248287, grad=0.006591727950342685),\n",
       " Value(data=-0.99141830717472, grad=0.01716338565055997),\n",
       " Value(data=0.9902596335289015, grad=-0.0194807329421971)]"
      ]
     },
     "execution_count": 379,
     "metadata": {},
     "output_type": "execute_result"
    }
   ],
   "source": [
    "ypred"
   ]
  },
  {
   "cell_type": "code",
   "execution_count": null,
   "metadata": {},
   "outputs": [],
   "source": []
  },
  {
   "cell_type": "code",
   "execution_count": 324,
   "metadata": {},
   "outputs": [
    {
     "data": {
      "text/plain": [
       "[Value(data=0.999999594980157, grad=0.0),\n",
       " Value(data=-0.999999999999996, grad=0.0),\n",
       " Value(data=-0.9999999999999987, grad=0.0),\n",
       " Value(data=0.9999998259555527, grad=0.0)]"
      ]
     },
     "execution_count": 324,
     "metadata": {},
     "output_type": "execute_result"
    }
   ],
   "source": []
  },
  {
   "cell_type": "code",
   "execution_count": 297,
   "metadata": {},
   "outputs": [
    {
     "data": {
      "text/plain": [
       "[Value(data=0.7969639178093085, grad=0.8757135974674767),\n",
       " Value(data=-0.680787628607632, grad=1.1017626775703304),\n",
       " Value(data=0.6620061793249495, grad=-0.6404286988800311)]"
      ]
     },
     "execution_count": 297,
     "metadata": {},
     "output_type": "execute_result"
    }
   ],
   "source": [
    "mlp.layers[0].neurons[0].w"
   ]
  },
  {
   "cell_type": "code",
   "execution_count": null,
   "metadata": {},
   "outputs": [],
   "source": []
  },
  {
   "cell_type": "code",
   "execution_count": 260,
   "metadata": {},
   "outputs": [],
   "source": [
    "# draw_dot(loss)"
   ]
  },
  {
   "cell_type": "code",
   "execution_count": 284,
   "metadata": {},
   "outputs": [
    {
     "data": {
      "text/plain": [
       "41"
      ]
     },
     "execution_count": 284,
     "metadata": {},
     "output_type": "execute_result"
    }
   ],
   "source": [
    "len(mlp.parameters())"
   ]
  },
  {
   "cell_type": "code",
   "execution_count": 285,
   "metadata": {},
   "outputs": [
    {
     "data": {
      "text/plain": [
       "[Value(data=0.812108767610008, grad=0.07373372413923175),\n",
       " Value(data=-0.6615970207925193, grad=0.09559890883705274),\n",
       " Value(data=0.6513174731673232, grad=-0.04586760977335478),\n",
       " Value(data=0.38693998599123836, grad=0.0628154104252849),\n",
       " Value(data=0.9640704865177228, grad=0.059841434732284586),\n",
       " Value(data=0.9819301028118552, grad=0.029607470412827998),\n",
       " Value(data=0.592061522438404, grad=0.08116892070922238),\n",
       " Value(data=-0.7337906222331634, grad=0.05962303676220558),\n",
       " Value(data=0.904550493363343, grad=-0.050672481491337344),\n",
       " Value(data=0.6607125591605396, grad=0.05264820594352489),\n",
       " Value(data=-0.7787620904674522, grad=0.017989442467918636),\n",
       " Value(data=0.5903714710416805, grad=0.008425320048479075),\n",
       " Value(data=0.3976446221573364, grad=0.4161571911726922),\n",
       " Value(data=-0.5249096883807456, grad=-0.3841786494609366),\n",
       " Value(data=-0.9604740416148769, grad=0.24089231587088356),\n",
       " Value(data=-0.2805303387465614, grad=0.12030933277106501),\n",
       " Value(data=0.37451459246628604, grad=0.33051427274196077),\n",
       " Value(data=-0.12743372987022883, grad=0.29632574951183527),\n",
       " Value(data=-0.5629773026411828, grad=0.29824121495012246),\n",
       " Value(data=0.5356232254247821, grad=0.11935875110429135),\n",
       " Value(data=-0.7567292992054677, grad=0.32601191783762745),\n",
       " Value(data=0.626829698449435, grad=0.13824200932080646),\n",
       " Value(data=0.8873969470258689, grad=0.1554926558060501),\n",
       " Value(data=0.997432772641677, grad=0.12647450365479407),\n",
       " Value(data=0.9114432485155122, grad=-0.17688187643417755),\n",
       " Value(data=0.7030878222859376, grad=0.17935714729059019),\n",
       " Value(data=-0.2913934425771081, grad=0.8361013310270832),\n",
       " Value(data=0.025584285845063004, grad=0.6025225859501824),\n",
       " Value(data=-0.6568432305525072, grad=0.5773528763636502),\n",
       " Value(data=0.6403846994442404, grad=0.25088210465103455),\n",
       " Value(data=-0.3806120789203482, grad=0.6449427312568267),\n",
       " Value(data=0.5534922787493144, grad=-0.2907893785887542),\n",
       " Value(data=-0.5041930072738499, grad=-0.2591731366846981),\n",
       " Value(data=-0.32239743457667247, grad=-0.2399023779679163),\n",
       " Value(data=0.7430979262462938, grad=0.006343241210403944),\n",
       " Value(data=0.1477673400355619, grad=-0.28245502382075144),\n",
       " Value(data=0.2340415297590588, grad=-2.338694095511866),\n",
       " Value(data=0.8969086595363389, grad=3.0940506867386177),\n",
       " Value(data=0.6824496729373462, grad=-2.657896991125366),\n",
       " Value(data=-0.13547746988497078, grad=-0.34284836244785544),\n",
       " Value(data=0.6307724701000461, grad=3.1970412454519996)]"
      ]
     },
     "execution_count": 285,
     "metadata": {},
     "output_type": "execute_result"
    }
   ],
   "source": [
    "mlp.parameters()"
   ]
  },
  {
   "cell_type": "code",
   "execution_count": null,
   "metadata": {},
   "outputs": [],
   "source": []
  }
 ],
 "metadata": {
  "kernelspec": {
   "display_name": "base",
   "language": "python",
   "name": "python3"
  },
  "language_info": {
   "codemirror_mode": {
    "name": "ipython",
    "version": 3
   },
   "file_extension": ".py",
   "mimetype": "text/x-python",
   "name": "python",
   "nbconvert_exporter": "python",
   "pygments_lexer": "ipython3",
   "version": "3.10.14"
  }
 },
 "nbformat": 4,
 "nbformat_minor": 2
}
